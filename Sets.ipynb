{
  "nbformat": 4,
  "nbformat_minor": 0,
  "metadata": {
    "colab": {
      "name": "Sets",
      "provenance": [],
      "collapsed_sections": []
    },
    "kernelspec": {
      "name": "python3",
      "display_name": "Python 3"
    }
  },
  "cells": [
    {
      "cell_type": "markdown",
      "metadata": {
        "id": "DQ6BWVUU3Pja",
        "colab_type": "text"
      },
      "source": [
        "# ***SETS***"
      ]
    },
    {
      "cell_type": "markdown",
      "metadata": {
        "id": "nNdpcZ093SXN",
        "colab_type": "text"
      },
      "source": [
        "Set is mutable and unordered collection of data with no repetition.\n",
        "\n",
        "Here we will discuss the methods of sets.\n",
        "\n",
        "Let's first see all the methods of set via dir() method."
      ]
    },
    {
      "cell_type": "code",
      "metadata": {
        "id": "L7OscoR94QH1",
        "colab_type": "code",
        "colab": {
          "base_uri": "https://localhost:8080/",
          "height": 952
        },
        "outputId": "242400b9-0bb5-4a56-927c-a06469ec1cfb"
      },
      "source": [
        "dir(set)"
      ],
      "execution_count": 1,
      "outputs": [
        {
          "output_type": "execute_result",
          "data": {
            "text/plain": [
              "['__and__',\n",
              " '__class__',\n",
              " '__contains__',\n",
              " '__delattr__',\n",
              " '__dir__',\n",
              " '__doc__',\n",
              " '__eq__',\n",
              " '__format__',\n",
              " '__ge__',\n",
              " '__getattribute__',\n",
              " '__gt__',\n",
              " '__hash__',\n",
              " '__iand__',\n",
              " '__init__',\n",
              " '__init_subclass__',\n",
              " '__ior__',\n",
              " '__isub__',\n",
              " '__iter__',\n",
              " '__ixor__',\n",
              " '__le__',\n",
              " '__len__',\n",
              " '__lt__',\n",
              " '__ne__',\n",
              " '__new__',\n",
              " '__or__',\n",
              " '__rand__',\n",
              " '__reduce__',\n",
              " '__reduce_ex__',\n",
              " '__repr__',\n",
              " '__ror__',\n",
              " '__rsub__',\n",
              " '__rxor__',\n",
              " '__setattr__',\n",
              " '__sizeof__',\n",
              " '__str__',\n",
              " '__sub__',\n",
              " '__subclasshook__',\n",
              " '__xor__',\n",
              " 'add',\n",
              " 'clear',\n",
              " 'copy',\n",
              " 'difference',\n",
              " 'difference_update',\n",
              " 'discard',\n",
              " 'intersection',\n",
              " 'intersection_update',\n",
              " 'isdisjoint',\n",
              " 'issubset',\n",
              " 'issuperset',\n",
              " 'pop',\n",
              " 'remove',\n",
              " 'symmetric_difference',\n",
              " 'symmetric_difference_update',\n",
              " 'union',\n",
              " 'update']"
            ]
          },
          "metadata": {
            "tags": []
          },
          "execution_count": 1
        }
      ]
    },
    {
      "cell_type": "markdown",
      "metadata": {
        "id": "Is9p5knk-jgR",
        "colab_type": "text"
      },
      "source": [
        "Now, let's create an empty set."
      ]
    },
    {
      "cell_type": "code",
      "metadata": {
        "id": "Nip0NM3j-nuk",
        "colab_type": "code",
        "colab": {}
      },
      "source": [
        "myset = set()"
      ],
      "execution_count": 2,
      "outputs": []
    },
    {
      "cell_type": "markdown",
      "metadata": {
        "id": "9dacL72n-zhu",
        "colab_type": "text"
      },
      "source": [
        "***METHODS OF SET***"
      ]
    },
    {
      "cell_type": "markdown",
      "metadata": {
        "id": "_bIaZIlN-xWq",
        "colab_type": "text"
      },
      "source": [
        "1) **set.add(element):** It adds element to the set if it is not present in the set."
      ]
    },
    {
      "cell_type": "code",
      "metadata": {
        "id": "vciYVsEF_NKm",
        "colab_type": "code",
        "colab": {
          "base_uri": "https://localhost:8080/",
          "height": 34
        },
        "outputId": "5f9e5764-4c1d-405d-dc79-f65702200079"
      },
      "source": [
        "myset.add(4)\n",
        "myset.add(6)\n",
        "myset.add(8)\n",
        "myset.add(5)\n",
        "myset.add(9)\n",
        "myset.add(8) #this element will not be added as it is already added in the set.\n",
        "myset"
      ],
      "execution_count": 28,
      "outputs": [
        {
          "output_type": "execute_result",
          "data": {
            "text/plain": [
              "{4, 5, 6, 8, 9}"
            ]
          },
          "metadata": {
            "tags": []
          },
          "execution_count": 28
        }
      ]
    },
    {
      "cell_type": "markdown",
      "metadata": {
        "id": "o20Kimrj_jRa",
        "colab_type": "text"
      },
      "source": [
        "2) **set.update(iterable):** It adds iterable(string, tuple, dict etc) to the set."
      ]
    },
    {
      "cell_type": "code",
      "metadata": {
        "id": "D3dhbO-x_-iE",
        "colab_type": "code",
        "colab": {
          "base_uri": "https://localhost:8080/",
          "height": 51
        },
        "outputId": "6127dff1-78b6-4e2a-fee3-8cbc52f301bb"
      },
      "source": [
        "d = {'a':3, 'b':7}\n",
        "s = 'abc'\n",
        "myset.update(d)\n",
        "print(myset)\n",
        "myset.update(s)\n",
        "print(myset)"
      ],
      "execution_count": 29,
      "outputs": [
        {
          "output_type": "stream",
          "text": [
            "{4, 5, 6, 8, 9, 'a', 'b'}\n",
            "{4, 5, 6, 8, 9, 'c', 'a', 'b'}\n"
          ],
          "name": "stdout"
        }
      ]
    },
    {
      "cell_type": "markdown",
      "metadata": {
        "id": "qJJnV0v1APkx",
        "colab_type": "text"
      },
      "source": [
        "3) **set.remove(element):** It removes the element from the set. If element not found then it results into traceback(keyerror)."
      ]
    },
    {
      "cell_type": "code",
      "metadata": {
        "id": "S78XP7ihArUv",
        "colab_type": "code",
        "colab": {
          "base_uri": "https://localhost:8080/",
          "height": 34
        },
        "outputId": "a0307ecd-3ce3-41bd-81fa-42c10ffa3db8"
      },
      "source": [
        "myset.remove('c')\n",
        "myset"
      ],
      "execution_count": 30,
      "outputs": [
        {
          "output_type": "execute_result",
          "data": {
            "text/plain": [
              "{4, 5, 6, 8, 9, 'a', 'b'}"
            ]
          },
          "metadata": {
            "tags": []
          },
          "execution_count": 30
        }
      ]
    },
    {
      "cell_type": "code",
      "metadata": {
        "id": "GJJv9JHvA0tj",
        "colab_type": "code",
        "colab": {
          "base_uri": "https://localhost:8080/",
          "height": 163
        },
        "outputId": "ea812893-f244-4e6a-d4a2-b4825899dcce"
      },
      "source": [
        "myset.remove('c')"
      ],
      "execution_count": 31,
      "outputs": [
        {
          "output_type": "error",
          "ename": "KeyError",
          "evalue": "ignored",
          "traceback": [
            "\u001b[0;31m---------------------------------------------------------------------------\u001b[0m",
            "\u001b[0;31mKeyError\u001b[0m                                  Traceback (most recent call last)",
            "\u001b[0;32m<ipython-input-31-c08512b0e008>\u001b[0m in \u001b[0;36m<module>\u001b[0;34m()\u001b[0m\n\u001b[0;32m----> 1\u001b[0;31m \u001b[0mmyset\u001b[0m\u001b[0;34m.\u001b[0m\u001b[0mremove\u001b[0m\u001b[0;34m(\u001b[0m\u001b[0;34m'c'\u001b[0m\u001b[0;34m)\u001b[0m\u001b[0;34m\u001b[0m\u001b[0;34m\u001b[0m\u001b[0m\n\u001b[0m",
            "\u001b[0;31mKeyError\u001b[0m: 'c'"
          ]
        }
      ]
    },
    {
      "cell_type": "markdown",
      "metadata": {
        "id": "NA_tVDxUBCMv",
        "colab_type": "text"
      },
      "source": [
        "4) **set.discard(element):** It removes the element from the list. If element not found then None is returned."
      ]
    },
    {
      "cell_type": "code",
      "metadata": {
        "id": "QcVemHlUBNSE",
        "colab_type": "code",
        "colab": {
          "base_uri": "https://localhost:8080/",
          "height": 34
        },
        "outputId": "71ed9c43-e6e7-4002-eb67-3f5720f1b5b3"
      },
      "source": [
        "myset.discard('b')\n",
        "myset.discard('a')\n",
        "myset"
      ],
      "execution_count": 32,
      "outputs": [
        {
          "output_type": "execute_result",
          "data": {
            "text/plain": [
              "{4, 5, 6, 8, 9}"
            ]
          },
          "metadata": {
            "tags": []
          },
          "execution_count": 32
        }
      ]
    },
    {
      "cell_type": "code",
      "metadata": {
        "id": "TJBYmmQKBR4c",
        "colab_type": "code",
        "colab": {
          "base_uri": "https://localhost:8080/",
          "height": 34
        },
        "outputId": "4d09c143-7304-4a80-eb83-b11b4da640f7"
      },
      "source": [
        "print(myset.discard('b'))"
      ],
      "execution_count": 33,
      "outputs": [
        {
          "output_type": "stream",
          "text": [
            "None\n"
          ],
          "name": "stdout"
        }
      ]
    },
    {
      "cell_type": "markdown",
      "metadata": {
        "id": "0hYoC5SvBcb0",
        "colab_type": "text"
      },
      "source": [
        "5) **set.pop():** It returns and removes an arbitrary element from the list."
      ]
    },
    {
      "cell_type": "code",
      "metadata": {
        "id": "U54Zne3DB1Ze",
        "colab_type": "code",
        "colab": {
          "base_uri": "https://localhost:8080/",
          "height": 34
        },
        "outputId": "ab09e352-4c3f-476e-a4d3-e45e8093b9db"
      },
      "source": [
        "myset.pop()"
      ],
      "execution_count": 34,
      "outputs": [
        {
          "output_type": "execute_result",
          "data": {
            "text/plain": [
              "8"
            ]
          },
          "metadata": {
            "tags": []
          },
          "execution_count": 34
        }
      ]
    },
    {
      "cell_type": "code",
      "metadata": {
        "id": "jbxzqpiRB40E",
        "colab_type": "code",
        "colab": {
          "base_uri": "https://localhost:8080/",
          "height": 34
        },
        "outputId": "3b7f4c6f-b2fb-4431-c47e-8a4769ec5283"
      },
      "source": [
        "myset"
      ],
      "execution_count": 35,
      "outputs": [
        {
          "output_type": "execute_result",
          "data": {
            "text/plain": [
              "{4, 5, 6, 9}"
            ]
          },
          "metadata": {
            "tags": []
          },
          "execution_count": 35
        }
      ]
    },
    {
      "cell_type": "markdown",
      "metadata": {
        "id": "vv2luMmlCUQ3",
        "colab_type": "text"
      },
      "source": [
        "6) **set.copy():** It returns a shallow copy of the set. It means, the content of shallow copy of the set will not be changed if the set values are changed."
      ]
    },
    {
      "cell_type": "code",
      "metadata": {
        "id": "wCm848JnCn_Y",
        "colab_type": "code",
        "colab": {
          "base_uri": "https://localhost:8080/",
          "height": 136
        },
        "outputId": "0a15ee6c-c9c6-404c-f142-3a487815f53f"
      },
      "source": [
        "setcopy = myset.copy()\n",
        "print(\"Copy Set: \",setcopy)\n",
        "print(\"My Set: \",myset)\n",
        "myset.add(3)\n",
        "print(\"\\nAfter Altering the content of my_dict...\\n\")\n",
        "print(\"Copy Set: \",setcopy)\n",
        "print(\"My Set: \",myset)"
      ],
      "execution_count": 39,
      "outputs": [
        {
          "output_type": "stream",
          "text": [
            "Copy Set:  {9, 4, 5, 6}\n",
            "My Set:  {4, 5, 6, 9}\n",
            "\n",
            "After Altering the content of my_dict...\n",
            "\n",
            "Copy Set:  {9, 4, 5, 6}\n",
            "My Set:  {3, 4, 5, 6, 9}\n"
          ],
          "name": "stdout"
        }
      ]
    },
    {
      "cell_type": "markdown",
      "metadata": {
        "id": "jGfHs_oDDh00",
        "colab_type": "text"
      },
      "source": [
        "7) **set.clear():** It returns an empty set after delecting all elements from the set."
      ]
    },
    {
      "cell_type": "code",
      "metadata": {
        "id": "FZ1EzvBVDxxY",
        "colab_type": "code",
        "colab": {
          "base_uri": "https://localhost:8080/",
          "height": 34
        },
        "outputId": "fbe24efe-2b3f-4e53-9177-644f2a1d1e06"
      },
      "source": [
        "myset.clear()\n",
        "myset"
      ],
      "execution_count": 40,
      "outputs": [
        {
          "output_type": "execute_result",
          "data": {
            "text/plain": [
              "set()"
            ]
          },
          "metadata": {
            "tags": []
          },
          "execution_count": 40
        }
      ]
    },
    {
      "cell_type": "markdown",
      "metadata": {
        "id": "bLYkisRsD5lj",
        "colab_type": "text"
      },
      "source": [
        "8) **set1.difference(set2):** It returns the difference of set 1 and set 2 i.e., set1 - set2."
      ]
    },
    {
      "cell_type": "code",
      "metadata": {
        "id": "hSbBXhCTEKQm",
        "colab_type": "code",
        "colab": {
          "base_uri": "https://localhost:8080/",
          "height": 34
        },
        "outputId": "3fcb3be5-9866-4d64-d5be-1d642ddcea04"
      },
      "source": [
        "set1 = {2, 6, 7, 4, 9, 3}\n",
        "set2 = {1, 6, 8, 0, 3}\n",
        "set1.difference(set2)"
      ],
      "execution_count": 41,
      "outputs": [
        {
          "output_type": "execute_result",
          "data": {
            "text/plain": [
              "{2, 4, 7, 9}"
            ]
          },
          "metadata": {
            "tags": []
          },
          "execution_count": 41
        }
      ]
    },
    {
      "cell_type": "markdown",
      "metadata": {
        "id": "BGot3woTEcWg",
        "colab_type": "text"
      },
      "source": [
        "9) **set1.difference_update(set2):** It saves the difference of set1 and set2 in set1."
      ]
    },
    {
      "cell_type": "code",
      "metadata": {
        "id": "xxZ9axnMEyme",
        "colab_type": "code",
        "colab": {
          "base_uri": "https://localhost:8080/",
          "height": 34
        },
        "outputId": "f0258939-8c1b-4a72-ca65-73fbad4cbf9a"
      },
      "source": [
        "set1 = {2, 6, 7, 4, 9, 3}\n",
        "set2 = {1, 6, 8, 0, 3}\n",
        "set1.difference_update(set2)\n",
        "set1"
      ],
      "execution_count": 46,
      "outputs": [
        {
          "output_type": "execute_result",
          "data": {
            "text/plain": [
              "{2, 4, 7, 9}"
            ]
          },
          "metadata": {
            "tags": []
          },
          "execution_count": 46
        }
      ]
    },
    {
      "cell_type": "markdown",
      "metadata": {
        "id": "UxrcHQoXFCyP",
        "colab_type": "text"
      },
      "source": [
        "10) **set1.intersection(set2):** It returns the intersection of set1 and set2."
      ]
    },
    {
      "cell_type": "code",
      "metadata": {
        "id": "yY0ghKbjFSNx",
        "colab_type": "code",
        "colab": {
          "base_uri": "https://localhost:8080/",
          "height": 34
        },
        "outputId": "c274f1ec-c4d2-4f75-ab4b-ce0dc91670b1"
      },
      "source": [
        "set1 = {2, 6, 7, 4, 9, 3}\n",
        "set2 = {1, 6, 8, 0, 3}\n",
        "set1.intersection(set2)"
      ],
      "execution_count": 47,
      "outputs": [
        {
          "output_type": "execute_result",
          "data": {
            "text/plain": [
              "{3, 6}"
            ]
          },
          "metadata": {
            "tags": []
          },
          "execution_count": 47
        }
      ]
    },
    {
      "cell_type": "markdown",
      "metadata": {
        "id": "OfIgAletFbe2",
        "colab_type": "text"
      },
      "source": [
        "11) **set1.intersection_update(set2):** It returns None. It updates set1 with the value of intersection of set1 and set2."
      ]
    },
    {
      "cell_type": "code",
      "metadata": {
        "id": "tG9e8l8DFqVe",
        "colab_type": "code",
        "colab": {
          "base_uri": "https://localhost:8080/",
          "height": 51
        },
        "outputId": "f6ac02eb-4fe5-452a-eae5-90ae8947a42d"
      },
      "source": [
        "set1 = {2, 6, 7, 4, 9, 3}\n",
        "set2 = {1, 6, 8, 0, 3}\n",
        "print(set1.intersection_update(set2))\n",
        "set1"
      ],
      "execution_count": 49,
      "outputs": [
        {
          "output_type": "stream",
          "text": [
            "None\n"
          ],
          "name": "stdout"
        },
        {
          "output_type": "execute_result",
          "data": {
            "text/plain": [
              "{3, 6}"
            ]
          },
          "metadata": {
            "tags": []
          },
          "execution_count": 49
        }
      ]
    },
    {
      "cell_type": "markdown",
      "metadata": {
        "id": "x1-sMt8MF3iV",
        "colab_type": "text"
      },
      "source": [
        "12) **set1.union(set2):** It returns the union of set1 and set2."
      ]
    },
    {
      "cell_type": "code",
      "metadata": {
        "id": "MecWaqpYF-pf",
        "colab_type": "code",
        "colab": {
          "base_uri": "https://localhost:8080/",
          "height": 34
        },
        "outputId": "4dc5d77b-5c1a-4f6d-d874-c037db336922"
      },
      "source": [
        "set1 = {2, 6, 7, 4, 9, 3}\n",
        "set2 = {1, 6, 8, 0, 3}\n",
        "set1.union(set2)"
      ],
      "execution_count": 50,
      "outputs": [
        {
          "output_type": "execute_result",
          "data": {
            "text/plain": [
              "{0, 1, 2, 3, 4, 6, 7, 8, 9}"
            ]
          },
          "metadata": {
            "tags": []
          },
          "execution_count": 50
        }
      ]
    },
    {
      "cell_type": "markdown",
      "metadata": {
        "id": "5iGTtPLgGREK",
        "colab_type": "text"
      },
      "source": [
        "13) **set1.symmetric_difference(set2):** It returns the elements of set1 and set2 except those that comes in their intersection, i.e., union(set1,set2) - intersection(set1,set2). "
      ]
    },
    {
      "cell_type": "code",
      "metadata": {
        "id": "0Y8kGB9eGnfB",
        "colab_type": "code",
        "colab": {
          "base_uri": "https://localhost:8080/",
          "height": 34
        },
        "outputId": "6a577731-d0da-48ed-9f55-af28817fe0dd"
      },
      "source": [
        "set1 = {2, 6, 7, 4, 9, 3}\n",
        "set2 = {1, 6, 8, 0, 3}\n",
        "set1.symmetric_difference(set2)"
      ],
      "execution_count": 54,
      "outputs": [
        {
          "output_type": "execute_result",
          "data": {
            "text/plain": [
              "{0, 1, 2, 4, 7, 8, 9}"
            ]
          },
          "metadata": {
            "tags": []
          },
          "execution_count": 54
        }
      ]
    },
    {
      "cell_type": "markdown",
      "metadata": {
        "id": "XAedwUTFH5kF",
        "colab_type": "text"
      },
      "source": [
        "14) **set1.symmetric_difference_update(set2):** It returns None. It overwrites the set1 with the symmetric difference of set1 and set2."
      ]
    },
    {
      "cell_type": "code",
      "metadata": {
        "id": "4jgd0oLJIQWT",
        "colab_type": "code",
        "colab": {
          "base_uri": "https://localhost:8080/",
          "height": 34
        },
        "outputId": "d237f9c0-d6ce-4a21-a59e-19083f96abbe"
      },
      "source": [
        "set1 = {2, 6, 7, 4, 9, 3}\n",
        "set2 = {1, 6, 8, 0, 3}\n",
        "set1.symmetric_difference_update(set2)\n",
        "set1"
      ],
      "execution_count": 55,
      "outputs": [
        {
          "output_type": "execute_result",
          "data": {
            "text/plain": [
              "{0, 1, 2, 4, 7, 8, 9}"
            ]
          },
          "metadata": {
            "tags": []
          },
          "execution_count": 55
        }
      ]
    },
    {
      "cell_type": "markdown",
      "metadata": {
        "id": "QWTbi2FQIzaK",
        "colab_type": "text"
      },
      "source": [
        "15) **set1.isdisjoint(set2):** It returns True if set1 and set2 are disjoint sets i.e., intersection of set1 and set2 is an empty set. Else, it returns False."
      ]
    },
    {
      "cell_type": "code",
      "metadata": {
        "id": "MMAy5Cd4JLeK",
        "colab_type": "code",
        "colab": {
          "base_uri": "https://localhost:8080/",
          "height": 34
        },
        "outputId": "bd43ef02-c4ab-41f0-b99f-2d1ef714ab2e"
      },
      "source": [
        "set1 = {2, 6, 7, 4, 9, 3}\n",
        "set2 = {1, 6, 8, 0, 3}\n",
        "set1.isdisjoint(set2)"
      ],
      "execution_count": 56,
      "outputs": [
        {
          "output_type": "execute_result",
          "data": {
            "text/plain": [
              "False"
            ]
          },
          "metadata": {
            "tags": []
          },
          "execution_count": 56
        }
      ]
    },
    {
      "cell_type": "code",
      "metadata": {
        "id": "dNGTOc0wJTTK",
        "colab_type": "code",
        "colab": {
          "base_uri": "https://localhost:8080/",
          "height": 34
        },
        "outputId": "d2373c02-8077-47db-a640-70ece9a7ca88"
      },
      "source": [
        "set1 = {2, 6, 7, 4, 9}\n",
        "set2 = {1, 8, 0}\n",
        "set1.isdisjoint(set2)"
      ],
      "execution_count": 57,
      "outputs": [
        {
          "output_type": "execute_result",
          "data": {
            "text/plain": [
              "True"
            ]
          },
          "metadata": {
            "tags": []
          },
          "execution_count": 57
        }
      ]
    },
    {
      "cell_type": "markdown",
      "metadata": {
        "id": "sUP2CCxjJalt",
        "colab_type": "text"
      },
      "source": [
        "16) **set1.issubset(set2):** It returns True if set1 is a subset of set2 i.e., all elements of set1 are present in set2, else it returns False."
      ]
    },
    {
      "cell_type": "code",
      "metadata": {
        "id": "-tyVPyqVJxZn",
        "colab_type": "code",
        "colab": {
          "base_uri": "https://localhost:8080/",
          "height": 34
        },
        "outputId": "47f8ea4b-f7bf-4ec8-ccbd-a6ef7e788234"
      },
      "source": [
        "set1 = {2, 6, 7, 4, 9, 3}\n",
        "set2 = {1, 6, 0, 3, 9, 5, 7, 8}\n",
        "set1.issubset(set2)"
      ],
      "execution_count": 58,
      "outputs": [
        {
          "output_type": "execute_result",
          "data": {
            "text/plain": [
              "False"
            ]
          },
          "metadata": {
            "tags": []
          },
          "execution_count": 58
        }
      ]
    },
    {
      "cell_type": "code",
      "metadata": {
        "id": "m1AfIzEFJ72s",
        "colab_type": "code",
        "colab": {
          "base_uri": "https://localhost:8080/",
          "height": 34
        },
        "outputId": "7c6277b2-5334-457e-d765-226c47cc530a"
      },
      "source": [
        "set1 = {6, 7, 9, 3}\n",
        "set2 = {1, 6, 0, 3, 9, 5, 7, 8}\n",
        "set1.issubset(set2)"
      ],
      "execution_count": 59,
      "outputs": [
        {
          "output_type": "execute_result",
          "data": {
            "text/plain": [
              "True"
            ]
          },
          "metadata": {
            "tags": []
          },
          "execution_count": 59
        }
      ]
    }
  ]
}