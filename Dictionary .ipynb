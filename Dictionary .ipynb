{
  "nbformat": 4,
  "nbformat_minor": 0,
  "metadata": {
    "colab": {
      "name": "Dictionary",
      "provenance": [],
      "collapsed_sections": []
    },
    "kernelspec": {
      "name": "python3",
      "display_name": "Python 3"
    }
  },
  "cells": [
    {
      "cell_type": "markdown",
      "metadata": {
        "id": "Pdu3z7tQN9Qy",
        "colab_type": "text"
      },
      "source": [
        "# ***DICTIONARY***\n",
        "\n",
        "Dictionary is an unordered collection of pairs. Each item of dicitonry having a key/value pair. \n",
        "\n",
        "Dictionary is a mutable data structure in python.\n"
      ]
    },
    {
      "cell_type": "markdown",
      "metadata": {
        "id": "ZpTeSMvCPAud",
        "colab_type": "text"
      },
      "source": [
        "\n",
        "Let's create an empty dictionary."
      ]
    },
    {
      "cell_type": "code",
      "metadata": {
        "id": "fT2KnNxEPD1i",
        "colab_type": "code",
        "colab": {
          "base_uri": "https://localhost:8080/",
          "height": 34
        },
        "outputId": "610a2eb9-5f63-4a90-d04b-35e0d72096a3"
      },
      "source": [
        "my_dict = dict()\n",
        "my_dict"
      ],
      "execution_count": 2,
      "outputs": [
        {
          "output_type": "execute_result",
          "data": {
            "text/plain": [
              "{}"
            ]
          },
          "metadata": {
            "tags": []
          },
          "execution_count": 2
        }
      ]
    },
    {
      "cell_type": "markdown",
      "metadata": {
        "id": "xYbgwxWsPXrT",
        "colab_type": "text"
      },
      "source": [
        ""
      ]
    },
    {
      "cell_type": "markdown",
      "metadata": {
        "id": "UklTb7C4PKQO",
        "colab_type": "text"
      },
      "source": [
        "Now let's check the methods of dictionary by calling dir() method."
      ]
    },
    {
      "cell_type": "code",
      "metadata": {
        "id": "eVjDvbTBPR41",
        "colab_type": "code",
        "colab": {
          "base_uri": "https://localhost:8080/",
          "height": 697
        },
        "outputId": "782f9de4-2bd7-494b-f641-1c885c78f673"
      },
      "source": [
        "dir(dict)"
      ],
      "execution_count": null,
      "outputs": [
        {
          "output_type": "execute_result",
          "data": {
            "text/plain": [
              "['__class__',\n",
              " '__contains__',\n",
              " '__delattr__',\n",
              " '__delitem__',\n",
              " '__dir__',\n",
              " '__doc__',\n",
              " '__eq__',\n",
              " '__format__',\n",
              " '__ge__',\n",
              " '__getattribute__',\n",
              " '__getitem__',\n",
              " '__gt__',\n",
              " '__hash__',\n",
              " '__init__',\n",
              " '__init_subclass__',\n",
              " '__iter__',\n",
              " '__le__',\n",
              " '__len__',\n",
              " '__lt__',\n",
              " '__ne__',\n",
              " '__new__',\n",
              " '__reduce__',\n",
              " '__reduce_ex__',\n",
              " '__repr__',\n",
              " '__setattr__',\n",
              " '__setitem__',\n",
              " '__sizeof__',\n",
              " '__str__',\n",
              " '__subclasshook__',\n",
              " 'clear',\n",
              " 'copy',\n",
              " 'fromkeys',\n",
              " 'get',\n",
              " 'items',\n",
              " 'keys',\n",
              " 'pop',\n",
              " 'popitem',\n",
              " 'setdefault',\n",
              " 'update',\n",
              " 'values']"
            ]
          },
          "metadata": {
            "tags": []
          },
          "execution_count": 2
        }
      ]
    },
    {
      "cell_type": "markdown",
      "metadata": {
        "id": "zignElX1PwdN",
        "colab_type": "text"
      },
      "source": [
        " ***ADDING VALUES TO DICTIONARY*** "
      ]
    },
    {
      "cell_type": "code",
      "metadata": {
        "id": "NgK6Fc5sQW5Q",
        "colab_type": "code",
        "colab": {
          "base_uri": "https://localhost:8080/",
          "height": 34
        },
        "outputId": "021d3fde-a965-4b14-d90f-863d1ee119bd"
      },
      "source": [
        "my_dict['a'] = 3\n",
        "my_dict['b'] = 8\n",
        "my_dict['c'] = 4\n",
        "my_dict['d'] = 6\n",
        "my_dict['e'] = 9\n",
        "my_dict"
      ],
      "execution_count": 3,
      "outputs": [
        {
          "output_type": "execute_result",
          "data": {
            "text/plain": [
              "{'a': 3, 'b': 8, 'c': 4, 'd': 6, 'e': 9}"
            ]
          },
          "metadata": {
            "tags": []
          },
          "execution_count": 3
        }
      ]
    },
    {
      "cell_type": "markdown",
      "metadata": {
        "id": "0xfkuZIyQwPB",
        "colab_type": "text"
      },
      "source": [
        "***METHODS OF DICTIONARY***"
      ]
    },
    {
      "cell_type": "markdown",
      "metadata": {
        "id": "v9aIsq-DQ1FF",
        "colab_type": "text"
      },
      "source": [
        "1) **dict.keys():** It returns all the keys of a dictionary."
      ]
    },
    {
      "cell_type": "code",
      "metadata": {
        "id": "wuQjJkruRBMK",
        "colab_type": "code",
        "colab": {
          "base_uri": "https://localhost:8080/",
          "height": 34
        },
        "outputId": "72ec125f-099c-44f0-e6aa-926bc84e5cb3"
      },
      "source": [
        "my_dict.keys()"
      ],
      "execution_count": 4,
      "outputs": [
        {
          "output_type": "execute_result",
          "data": {
            "text/plain": [
              "dict_keys(['a', 'b', 'c', 'd', 'e'])"
            ]
          },
          "metadata": {
            "tags": []
          },
          "execution_count": 4
        }
      ]
    },
    {
      "cell_type": "markdown",
      "metadata": {
        "id": "b_Q1mJqhRFTq",
        "colab_type": "text"
      },
      "source": [
        "2) **dict.values():** It returns all the values of a dictionary."
      ]
    },
    {
      "cell_type": "code",
      "metadata": {
        "id": "ovywV081RM3o",
        "colab_type": "code",
        "colab": {
          "base_uri": "https://localhost:8080/",
          "height": 34
        },
        "outputId": "eddafe01-6c69-4356-8833-2843640f22dc"
      },
      "source": [
        "my_dict.values()"
      ],
      "execution_count": 5,
      "outputs": [
        {
          "output_type": "execute_result",
          "data": {
            "text/plain": [
              "dict_values([3, 8, 4, 6, 9])"
            ]
          },
          "metadata": {
            "tags": []
          },
          "execution_count": 5
        }
      ]
    },
    {
      "cell_type": "markdown",
      "metadata": {
        "id": "REM3Ggb8RPsH",
        "colab_type": "text"
      },
      "source": [
        "3) **dict.items():** It returns a list of tuple pair of key and values."
      ]
    },
    {
      "cell_type": "code",
      "metadata": {
        "id": "pek1InaMRZ9r",
        "colab_type": "code",
        "colab": {
          "base_uri": "https://localhost:8080/",
          "height": 34
        },
        "outputId": "108f57a7-53cd-443a-81a9-8a2a25f5cf0f"
      },
      "source": [
        "my_dict.items()"
      ],
      "execution_count": 6,
      "outputs": [
        {
          "output_type": "execute_result",
          "data": {
            "text/plain": [
              "dict_items([('a', 3), ('b', 8), ('c', 4), ('d', 6), ('e', 9)])"
            ]
          },
          "metadata": {
            "tags": []
          },
          "execution_count": 6
        }
      ]
    },
    {
      "cell_type": "markdown",
      "metadata": {
        "id": "HZIKmuZ_RgsD",
        "colab_type": "text"
      },
      "source": [
        " 4) **dict.get(key):** It returns the value corresponding to the key. If the key is not found then None is returned."
      ]
    },
    {
      "cell_type": "code",
      "metadata": {
        "id": "w2HkxanPR1JA",
        "colab_type": "code",
        "colab": {
          "base_uri": "https://localhost:8080/",
          "height": 51
        },
        "outputId": "8daa2922-2d50-49cc-f5d5-7ae051b8718e"
      },
      "source": [
        "print(my_dict.get('k'))\n",
        "my_dict.get('b')"
      ],
      "execution_count": 16,
      "outputs": [
        {
          "output_type": "stream",
          "text": [
            "None\n"
          ],
          "name": "stdout"
        },
        {
          "output_type": "execute_result",
          "data": {
            "text/plain": [
              "8"
            ]
          },
          "metadata": {
            "tags": []
          },
          "execution_count": 16
        }
      ]
    },
    {
      "cell_type": "markdown",
      "metadata": {
        "id": "ZPcYnmYlpJB-",
        "colab_type": "text"
      },
      "source": [
        "5) **dict.setdefault(key, default_value):** It works similar to get() function but the only difference is that if the key is not found then the default_value is returned but if default_value is not specified then None is returned."
      ]
    },
    {
      "cell_type": "code",
      "metadata": {
        "id": "_LVKCO2yqFkb",
        "colab_type": "code",
        "colab": {
          "base_uri": "https://localhost:8080/",
          "height": 68
        },
        "outputId": "4fbc76b5-70c0-498e-d61a-a9303ba8bcf6"
      },
      "source": [
        "print(my_dict.setdefault('l',0))\n",
        "print(my_dict.setdefault('g'))\n",
        "my_dict"
      ],
      "execution_count": 32,
      "outputs": [
        {
          "output_type": "stream",
          "text": [
            "0\n",
            "None\n"
          ],
          "name": "stdout"
        },
        {
          "output_type": "execute_result",
          "data": {
            "text/plain": [
              "{'a': 3, 'b': 8, 'c': 4, 'd': 6, 'e': 9, 'f': 4, 'g': None, 'l': 0}"
            ]
          },
          "metadata": {
            "tags": []
          },
          "execution_count": 32
        }
      ]
    },
    {
      "cell_type": "markdown",
      "metadata": {
        "id": "hq7vPfvJR5dH",
        "colab_type": "text"
      },
      "source": [
        "6) **dict.copy():** It returns the copy of the dict. By this, if we change the content of the copied dict, even then the content of the old dict will not be changed though."
      ]
    },
    {
      "cell_type": "code",
      "metadata": {
        "id": "xhQGCi5dSW6k",
        "colab_type": "code",
        "colab": {
          "base_uri": "https://localhost:8080/",
          "height": 136
        },
        "outputId": "7dd3ea32-75aa-4aa3-9b35-79d3301570e3"
      },
      "source": [
        "copy_dict = my_dict.copy()\n",
        "print(\"Copy Dict: \",copy_dict)\n",
        "print(\"My Dict: \",my_dict)\n",
        "my_dict['f'] = 4\n",
        "print(\"\\nAfter Altering the content of my_dict...\\n\")\n",
        "print(\"Copy Dict: \",copy_dict)\n",
        "print(\"My Dict: \",my_dict)"
      ],
      "execution_count": 8,
      "outputs": [
        {
          "output_type": "stream",
          "text": [
            "Copy Dict:  {'a': 3, 'b': 8, 'c': 4, 'd': 6, 'e': 9}\n",
            "My Dict:  {'a': 3, 'b': 8, 'c': 4, 'd': 6, 'e': 9}\n",
            "\n",
            "After Altering the content of my_dict...\n",
            "\n",
            "Copy Dict:  {'a': 3, 'b': 8, 'c': 4, 'd': 6, 'e': 9}\n",
            "My Dict:  {'a': 3, 'b': 8, 'c': 4, 'd': 6, 'e': 9, 'f': 4}\n"
          ],
          "name": "stdout"
        }
      ]
    },
    {
      "cell_type": "markdown",
      "metadata": {
        "id": "Mj4a8l46S0J-",
        "colab_type": "text"
      },
      "source": [
        "7) **dict.update(dict2):** It add the iterable to the dictionary."
      ]
    },
    {
      "cell_type": "code",
      "metadata": {
        "id": "qJwx7WEeTN45",
        "colab_type": "code",
        "colab": {
          "base_uri": "https://localhost:8080/",
          "height": 34
        },
        "outputId": "71d6b301-60f1-4ed7-c886-6a1d51142c2b"
      },
      "source": [
        "my_dict.update({'g':9})\n",
        "my_dict"
      ],
      "execution_count": 33,
      "outputs": [
        {
          "output_type": "execute_result",
          "data": {
            "text/plain": [
              "{'a': 3, 'b': 8, 'c': 4, 'd': 6, 'e': 9, 'f': 4, 'g': 9, 'l': 0}"
            ]
          },
          "metadata": {
            "tags": []
          },
          "execution_count": 33
        }
      ]
    },
    {
      "cell_type": "markdown",
      "metadata": {
        "id": "imzwTGUcou6-",
        "colab_type": "text"
      },
      "source": [
        "8) **dict.pop(key):** It removes the item with specified key from the dictionary and returns the value of the key. "
      ]
    },
    {
      "cell_type": "code",
      "metadata": {
        "id": "UYfOoi6mr-Qh",
        "colab_type": "code",
        "colab": {
          "base_uri": "https://localhost:8080/",
          "height": 34
        },
        "outputId": "3b16b09c-400a-4d89-fbdc-2a4110b585cc"
      },
      "source": [
        "my_dict.pop('l')"
      ],
      "execution_count": 35,
      "outputs": [
        {
          "output_type": "execute_result",
          "data": {
            "text/plain": [
              "0"
            ]
          },
          "metadata": {
            "tags": []
          },
          "execution_count": 35
        }
      ]
    },
    {
      "cell_type": "markdown",
      "metadata": {
        "id": "m4OWyGmCsRFf",
        "colab_type": "text"
      },
      "source": [
        "9) **dict.popitem():** It returns the latest item inserted in the dictionary  and removes it from dictionary as well. It works on *LIFO*. "
      ]
    },
    {
      "cell_type": "code",
      "metadata": {
        "id": "P3vYw4zzs2du",
        "colab_type": "code",
        "colab": {
          "base_uri": "https://localhost:8080/",
          "height": 51
        },
        "outputId": "0fe4b24f-59d0-4361-ffc9-8339ecea8033"
      },
      "source": [
        "# Latest inserted pair is ('g', 9)\n",
        "print(my_dict.popitem())\n",
        "my_dict"
      ],
      "execution_count": 37,
      "outputs": [
        {
          "output_type": "stream",
          "text": [
            "('f', 4)\n"
          ],
          "name": "stdout"
        },
        {
          "output_type": "execute_result",
          "data": {
            "text/plain": [
              "{'a': 3, 'b': 8, 'c': 4, 'd': 6, 'e': 9}"
            ]
          },
          "metadata": {
            "tags": []
          },
          "execution_count": 37
        }
      ]
    },
    {
      "cell_type": "markdown",
      "metadata": {
        "id": "7n0DnmxEtj9m",
        "colab_type": "text"
      },
      "source": [
        "10) **dict.clear():** It clears all the values from the dictionary and returns an empty dictionary."
      ]
    },
    {
      "cell_type": "code",
      "metadata": {
        "id": "tD2dK8fvt0US",
        "colab_type": "code",
        "colab": {
          "base_uri": "https://localhost:8080/",
          "height": 34
        },
        "outputId": "f87e2ca7-d721-44ff-def7-349c846d5d81"
      },
      "source": [
        "my_dict.clear()\n",
        "my_dict"
      ],
      "execution_count": 39,
      "outputs": [
        {
          "output_type": "execute_result",
          "data": {
            "text/plain": [
              "{}"
            ]
          },
          "metadata": {
            "tags": []
          },
          "execution_count": 39
        }
      ]
    },
    {
      "cell_type": "markdown",
      "metadata": {
        "id": "Ejab-B3qycCG",
        "colab_type": "text"
      },
      "source": [
        "11) **dict.fromkeys(keys, value):** It returns a dictionary created from the specified keys but with same values. If value is not specifies then it returns the key with None as values."
      ]
    },
    {
      "cell_type": "code",
      "metadata": {
        "id": "MEDwLV-Xy4kX",
        "colab_type": "code",
        "colab": {
          "base_uri": "https://localhost:8080/",
          "height": 51
        },
        "outputId": "b59ff8ff-8872-46e9-a921-8aa7a6b3b70f"
      },
      "source": [
        "keys = ['a','b','c','d']\n",
        "value = 2\n",
        "new_dict = dict()\n",
        "print(new_dict.fromkeys(keys, value))\n",
        "my_dict.fromkeys(keys)"
      ],
      "execution_count": 43,
      "outputs": [
        {
          "output_type": "stream",
          "text": [
            "{'a': 2, 'b': 2, 'c': 2, 'd': 2}\n"
          ],
          "name": "stdout"
        },
        {
          "output_type": "execute_result",
          "data": {
            "text/plain": [
              "{'a': None, 'b': None, 'c': None, 'd': None}"
            ]
          },
          "metadata": {
            "tags": []
          },
          "execution_count": 43
        }
      ]
    }
  ]
}