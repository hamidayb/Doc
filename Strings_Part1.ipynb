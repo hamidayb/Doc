{
  "nbformat": 4,
  "nbformat_minor": 0,
  "metadata": {
    "colab": {
      "name": "Untitled1.ipynb",
      "provenance": []
    },
    "kernelspec": {
      "name": "python3",
      "display_name": "Python 3"
    }
  },
  "cells": [
    {
      "cell_type": "markdown",
      "metadata": {
        "id": "mmkLP5n09bDm",
        "colab_type": "text"
      },
      "source": [
        "# **STRINGS**\n",
        "## Strings is a sequence of characters which immutable i.e., once defined cannot be changed.\n",
        "\n",
        "Here, we are going to discuss the functions applicable on strings.\n",
        "\n",
        "You can check all the functions defined on strings by:"
      ]
    },
    {
      "cell_type": "code",
      "metadata": {
        "id": "I87d3lXF-ReV",
        "colab_type": "code",
        "colab": {}
      },
      "source": [
        "dir(str)"
      ],
      "execution_count": null,
      "outputs": []
    },
    {
      "cell_type": "markdown",
      "metadata": {
        "id": "Vo8o_oaP-dB2",
        "colab_type": "text"
      },
      "source": [
        "We will discuss almost all functions one by one.\n",
        "\n",
        "1) **capitalize():**  It takes no parameters. It is called by a string using a dot operator. It capitalizes the first character of a string."
      ]
    },
    {
      "cell_type": "code",
      "metadata": {
        "id": "R_G7HXd0_PtU",
        "colab_type": "code",
        "colab": {
          "base_uri": "https://localhost:8080/",
          "height": 35
        },
        "outputId": "5bd28fad-f797-4add-bb4f-929e47c0535b"
      },
      "source": [
        "'hello world'.capitalize()"
      ],
      "execution_count": 3,
      "outputs": [
        {
          "output_type": "execute_result",
          "data": {
            "application/vnd.google.colaboratory.intrinsic+json": {
              "type": "string"
            },
            "text/plain": [
              "'Hello world'"
            ]
          },
          "metadata": {
            "tags": []
          },
          "execution_count": 3
        }
      ]
    },
    {
      "cell_type": "markdown",
      "metadata": {
        "id": "cWGeAogICcPW",
        "colab_type": "text"
      },
      "source": [
        "2) **title():** It takes no parameters. It is called by a string using a dot operator. It capitalizes the first character of each word in the string."
      ]
    },
    {
      "cell_type": "code",
      "metadata": {
        "id": "Y1mpc_2uCrAH",
        "colab_type": "code",
        "colab": {
          "base_uri": "https://localhost:8080/",
          "height": 35
        },
        "outputId": "63a5887b-de9e-430b-ae72-cfe93ca3525c"
      },
      "source": [
        "'hello world! I am hamid.'.title()"
      ],
      "execution_count": 8,
      "outputs": [
        {
          "output_type": "execute_result",
          "data": {
            "application/vnd.google.colaboratory.intrinsic+json": {
              "type": "string"
            },
            "text/plain": [
              "'Hello World! I Am Hamid.'"
            ]
          },
          "metadata": {
            "tags": []
          },
          "execution_count": 8
        }
      ]
    },
    {
      "cell_type": "markdown",
      "metadata": {
        "id": "uLYDhzCK_WkH",
        "colab_type": "text"
      },
      "source": [
        "3) **casefold()**: It takes no parameters. It is called by a string using a dot operator. It lower case all the letters of the string. It is similar to lower() function."
      ]
    },
    {
      "cell_type": "code",
      "metadata": {
        "id": "ePqTHB31AFxK",
        "colab_type": "code",
        "colab": {
          "base_uri": "https://localhost:8080/",
          "height": 35
        },
        "outputId": "96cd7e24-e1d8-4295-8f71-d1c113be6ae1"
      },
      "source": [
        "'Hello World! I am coming'.casefold()"
      ],
      "execution_count": 4,
      "outputs": [
        {
          "output_type": "execute_result",
          "data": {
            "application/vnd.google.colaboratory.intrinsic+json": {
              "type": "string"
            },
            "text/plain": [
              "'hello world! i am coming'"
            ]
          },
          "metadata": {
            "tags": []
          },
          "execution_count": 4
        }
      ]
    },
    {
      "cell_type": "markdown",
      "metadata": {
        "id": "rJOhqY_IB1pi",
        "colab_type": "text"
      },
      "source": [
        "4) **ljust(width,fillchar):**It takes 2 parameters, width(length of string with padded characters) and fillchar(padding character). It is called by a string using a dot operator. It left just the string in the provided width and pad the padding character in space remainig on right."
      ]
    },
    {
      "cell_type": "code",
      "metadata": {
        "id": "ja_duAzQCSWa",
        "colab_type": "code",
        "colab": {
          "base_uri": "https://localhost:8080/",
          "height": 35
        },
        "outputId": "74e63c37-8624-44cf-bee7-2110a4eb558c"
      },
      "source": [
        "'Hello'.ljust(10,'*')"
      ],
      "execution_count": 7,
      "outputs": [
        {
          "output_type": "execute_result",
          "data": {
            "application/vnd.google.colaboratory.intrinsic+json": {
              "type": "string"
            },
            "text/plain": [
              "'Hello*****'"
            ]
          },
          "metadata": {
            "tags": []
          },
          "execution_count": 7
        }
      ]
    },
    {
      "cell_type": "markdown",
      "metadata": {
        "id": "lVxLZXIPAQX9",
        "colab_type": "text"
      },
      "source": [
        "5) **center(width, fillcahar)**: It takes 2 parameters, width(length of string with padded characters) and fillchar(padding character). It is called by a string using a dot operator. It centralizes the string in the provided width and pad the padding character in space left."
      ]
    },
    {
      "cell_type": "code",
      "metadata": {
        "id": "e9WqHubYBjsP",
        "colab_type": "code",
        "colab": {
          "base_uri": "https://localhost:8080/",
          "height": 35
        },
        "outputId": "cf1d5316-cfc7-4fe2-e45c-91412f2ca1ee"
      },
      "source": [
        "'Hello'.center(10,'*')"
      ],
      "execution_count": 9,
      "outputs": [
        {
          "output_type": "execute_result",
          "data": {
            "application/vnd.google.colaboratory.intrinsic+json": {
              "type": "string"
            },
            "text/plain": [
              "'**Hello***'"
            ]
          },
          "metadata": {
            "tags": []
          },
          "execution_count": 9
        }
      ]
    },
    {
      "cell_type": "markdown",
      "metadata": {
        "id": "Ck1WxWZgCaEv",
        "colab_type": "text"
      },
      "source": [
        "6) **rjust(width,fillchar):** It takes 2 parameters, width(length of string with padded characters) and fillchar(padding character). It is called by a string using a dot operator. It right just the string in the provided width and pad the padding character in space remainig on left.\n",
        "\n"
      ]
    },
    {
      "cell_type": "code",
      "metadata": {
        "id": "axucrvyyDJJd",
        "colab_type": "code",
        "colab": {
          "base_uri": "https://localhost:8080/",
          "height": 35
        },
        "outputId": "ed389843-6678-4e79-ec3f-3e949a0b88ab"
      },
      "source": [
        "'Hello'.rjust(10,'*')"
      ],
      "execution_count": 10,
      "outputs": [
        {
          "output_type": "execute_result",
          "data": {
            "application/vnd.google.colaboratory.intrinsic+json": {
              "type": "string"
            },
            "text/plain": [
              "'*****Hello'"
            ]
          },
          "metadata": {
            "tags": []
          },
          "execution_count": 10
        }
      ]
    },
    {
      "cell_type": "markdown",
      "metadata": {
        "id": "ewsbu8_7DUHV",
        "colab_type": "text"
      },
      "source": [
        "7) **count(sub_str, start, end):** It takes 3 parameters, sub_str(Sub String whose occurence is to be counted), start(starts from this point of string) and end(till the point). It is called by a string using a dot operator. It counts the occurences of the sub_string in the string. If no occurence, it returns 0."
      ]
    },
    {
      "cell_type": "code",
      "metadata": {
        "id": "JSrhn7fAER1I",
        "colab_type": "code",
        "colab": {
          "base_uri": "https://localhost:8080/",
          "height": 34
        },
        "outputId": "beb7b49a-776a-437f-9d28-776d9b204d4c"
      },
      "source": [
        "'Hi! I am Hamid'.count('am',3,14)"
      ],
      "execution_count": 11,
      "outputs": [
        {
          "output_type": "execute_result",
          "data": {
            "text/plain": [
              "2"
            ]
          },
          "metadata": {
            "tags": []
          },
          "execution_count": 11
        }
      ]
    },
    {
      "cell_type": "markdown",
      "metadata": {
        "id": "asuvkp_iEjX2",
        "colab_type": "text"
      },
      "source": [
        "8) **find(sub_str, start, end):** It takes 3 parameters, sub_str(Sub String whose position is to be found), start(starts from this point of string) and end(till the point). It is called by a string using a dot operator. It finds the position of the first occurence of the sub_string in the string.  If no occurence, it returns -1.\n",
        "\n"
      ]
    },
    {
      "cell_type": "code",
      "metadata": {
        "id": "ciuJTHplFLbP",
        "colab_type": "code",
        "colab": {
          "base_uri": "https://localhost:8080/",
          "height": 34
        },
        "outputId": "d06e7e1a-eff0-4273-ac1c-260772ab948c"
      },
      "source": [
        "'Hi! I am Hamid'.find('am',2,14)"
      ],
      "execution_count": 12,
      "outputs": [
        {
          "output_type": "execute_result",
          "data": {
            "text/plain": [
              "6"
            ]
          },
          "metadata": {
            "tags": []
          },
          "execution_count": 12
        }
      ]
    },
    {
      "cell_type": "markdown",
      "metadata": {
        "id": "ON8hMAeLFWSt",
        "colab_type": "text"
      },
      "source": [
        "9) **rfind(sub_str, start, end):** It takes 3 parameters, sub_str(Sub String whose position is to be found), start(starts from this point of string) and end(till the point). It is called by a string using a dot operator. It finds the position of the last occurence of the sub_string in the string. If no occurence, it returns -1."
      ]
    },
    {
      "cell_type": "code",
      "metadata": {
        "id": "4c6XN9ryMWsr",
        "colab_type": "code",
        "colab": {}
      },
      "source": [
        ""
      ],
      "execution_count": null,
      "outputs": []
    },
    {
      "cell_type": "code",
      "metadata": {
        "id": "zqDnnRkCFz0u",
        "colab_type": "code",
        "colab": {
          "base_uri": "https://localhost:8080/",
          "height": 34
        },
        "outputId": "d9ca8985-2b4d-4430-f0bb-c7a4d393aeae"
      },
      "source": [
        "'Hi! I am Hamid'.rfind('am',2,14)"
      ],
      "execution_count": 13,
      "outputs": [
        {
          "output_type": "execute_result",
          "data": {
            "text/plain": [
              "10"
            ]
          },
          "metadata": {
            "tags": []
          },
          "execution_count": 13
        }
      ]
    },
    {
      "cell_type": "markdown",
      "metadata": {
        "id": "65CaIkvYLOox",
        "colab_type": "text"
      },
      "source": [
        "16) **index(sub_str, start, end):** It is totally similar to find() method. The only difference is that find() returns -1 if no occurence found, while index() gives an Exception."
      ]
    },
    {
      "cell_type": "code",
      "metadata": {
        "id": "9zlacI4cL02e",
        "colab_type": "code",
        "colab": {
          "base_uri": "https://localhost:8080/",
          "height": 34
        },
        "outputId": "347f920b-e87b-455d-cded-1cfff22cd01f"
      },
      "source": [
        "'Hello World'.index('o',5,10)"
      ],
      "execution_count": 24,
      "outputs": [
        {
          "output_type": "execute_result",
          "data": {
            "text/plain": [
              "7"
            ]
          },
          "metadata": {
            "tags": []
          },
          "execution_count": 24
        }
      ]
    },
    {
      "cell_type": "markdown",
      "metadata": {
        "id": "JAm8eD7ZMjG_",
        "colab_type": "text"
      },
      "source": [
        "**rindex(sub_str, start, end):** It is totally similar to rfind() method. The only difference is that rfind() returns -1 if no occurence found, while rindex gives and Exception."
      ]
    },
    {
      "cell_type": "code",
      "metadata": {
        "id": "uzyeBJQ4M7Yz",
        "colab_type": "code",
        "colab": {
          "base_uri": "https://localhost:8080/",
          "height": 34
        },
        "outputId": "a0c6a8e0-b984-4850-e568-d61cc9189a63"
      },
      "source": [
        "'Hello World'.rindex('o')"
      ],
      "execution_count": 26,
      "outputs": [
        {
          "output_type": "execute_result",
          "data": {
            "text/plain": [
              "7"
            ]
          },
          "metadata": {
            "tags": []
          },
          "execution_count": 26
        }
      ]
    },
    {
      "cell_type": "markdown",
      "metadata": {
        "id": "URZ4Eg3IF8pk",
        "colab_type": "text"
      },
      "source": [
        "10) **encode(encoding, errors):** The string encode() method returns encoded version of the given string. It takes two parameters, encoding(the encoding type a string has to be encoded to) and errors(response when encoding fails)."
      ]
    },
    {
      "cell_type": "code",
      "metadata": {
        "id": "-MHvyEIGGxKT",
        "colab_type": "code",
        "colab": {
          "base_uri": "https://localhost:8080/",
          "height": 34
        },
        "outputId": "8e848321-8640-459b-e40b-c088b903e54f"
      },
      "source": [
        "'hello world'.encode()"
      ],
      "execution_count": 15,
      "outputs": [
        {
          "output_type": "execute_result",
          "data": {
            "text/plain": [
              "b'hello world'"
            ]
          },
          "metadata": {
            "tags": []
          },
          "execution_count": 15
        }
      ]
    },
    {
      "cell_type": "markdown",
      "metadata": {
        "id": "gNJ7t_hxG41u",
        "colab_type": "text"
      },
      "source": [
        "11) **startswith(substr, start, end):** It takes 3 parameter, sub_str(Sub String), start(starting index) and end(index at which search ends). It returns True/False based on whether the string starts with substr or not. "
      ]
    },
    {
      "cell_type": "code",
      "metadata": {
        "id": "afJg7NkHHiF_",
        "colab_type": "code",
        "colab": {
          "base_uri": "https://localhost:8080/",
          "height": 34
        },
        "outputId": "74171686-6c61-43d5-afce-3b11761ceab9"
      },
      "source": [
        "'Hi! I am Hamid'.startswith('I',4,14)"
      ],
      "execution_count": 16,
      "outputs": [
        {
          "output_type": "execute_result",
          "data": {
            "text/plain": [
              "True"
            ]
          },
          "metadata": {
            "tags": []
          },
          "execution_count": 16
        }
      ]
    },
    {
      "cell_type": "markdown",
      "metadata": {
        "id": "IhfPVYfkHu-R",
        "colab_type": "text"
      },
      "source": [
        "12) **endswith(substr, start, end):** It takes 3 parameter, sub_str(Sub String), start(starting index) and end(index at which search ends). It returns True/False based on whether the string ends with substr or not.\n",
        "\n",
        "[16]\n"
      ]
    },
    {
      "cell_type": "code",
      "metadata": {
        "id": "7BlpKlLVIN5v",
        "colab_type": "code",
        "colab": {
          "base_uri": "https://localhost:8080/",
          "height": 34
        },
        "outputId": "61685525-4e7d-4d78-8e02-c686021b8ebd"
      },
      "source": [
        "'Hello World'.endswith('o',0,5)"
      ],
      "execution_count": 17,
      "outputs": [
        {
          "output_type": "execute_result",
          "data": {
            "text/plain": [
              "True"
            ]
          },
          "metadata": {
            "tags": []
          },
          "execution_count": 17
        }
      ]
    },
    {
      "cell_type": "markdown",
      "metadata": {
        "id": "7-aBniiwIW1x",
        "colab_type": "text"
      },
      "source": [
        "13) **expandtabs(tabsize):** It takes only 1 argument, tabsize(the number of spaces in replacement to tab character). It exapnds tab character depending upon provided tabsize."
      ]
    },
    {
      "cell_type": "code",
      "metadata": {
        "id": "OM8qDZpgIxQM",
        "colab_type": "code",
        "colab": {
          "base_uri": "https://localhost:8080/",
          "height": 35
        },
        "outputId": "c0d114c7-d7b8-4282-d91c-1530af34dcaa"
      },
      "source": [
        "'Hello\\tWorld'.expandtabs(4)"
      ],
      "execution_count": 18,
      "outputs": [
        {
          "output_type": "execute_result",
          "data": {
            "application/vnd.google.colaboratory.intrinsic+json": {
              "type": "string"
            },
            "text/plain": [
              "'Hello   World'"
            ]
          },
          "metadata": {
            "tags": []
          },
          "execution_count": 18
        }
      ]
    },
    {
      "cell_type": "markdown",
      "metadata": {
        "id": "0RVPaJ0hI-Jx",
        "colab_type": "text"
      },
      "source": [
        "14) **format(values....):** It takes a number of paramaters depending upon how much you use in the string. It replaces '{}' in string with the values specified in its parenthesis."
      ]
    },
    {
      "cell_type": "code",
      "metadata": {
        "id": "xvNb55VZJcs0",
        "colab_type": "code",
        "colab": {
          "base_uri": "https://localhost:8080/",
          "height": 35
        },
        "outputId": "f904d1b0-6b9c-4a29-df1b-fe75e816171d"
      },
      "source": [
        "'Sum of {} and {} is {}'.format(23,25,23+25)"
      ],
      "execution_count": 19,
      "outputs": [
        {
          "output_type": "execute_result",
          "data": {
            "application/vnd.google.colaboratory.intrinsic+json": {
              "type": "string"
            },
            "text/plain": [
              "'Sum of 23 and 25 is 48'"
            ]
          },
          "metadata": {
            "tags": []
          },
          "execution_count": 19
        }
      ]
    },
    {
      "cell_type": "markdown",
      "metadata": {
        "id": "D0l7j326Jphg",
        "colab_type": "text"
      },
      "source": [
        "15) **format_map(mapping(dictionary)):** It takes only one argument, mapping_dictionary i.e., the dictionary whose values are to be matched to the variables as keys."
      ]
    },
    {
      "cell_type": "code",
      "metadata": {
        "id": "tirFPLdwK0JB",
        "colab_type": "code",
        "colab": {
          "base_uri": "https://localhost:8080/",
          "height": 35
        },
        "outputId": "e1cc4f2a-4c5d-44f3-ebbb-3b52c5b6d2f8"
      },
      "source": [
        "d = {'a':5,'b':6, 'c': 11}\n",
        "'Sum of {a} and {b} is: {c}'.format_map(d)"
      ],
      "execution_count": 22,
      "outputs": [
        {
          "output_type": "execute_result",
          "data": {
            "application/vnd.google.colaboratory.intrinsic+json": {
              "type": "string"
            },
            "text/plain": [
              "'Sum of 5 and 6 is: 11'"
            ]
          },
          "metadata": {
            "tags": []
          },
          "execution_count": 22
        }
      ]
    },
    {
      "cell_type": "markdown",
      "metadata": {
        "id": "zVkvIsweMNGe",
        "colab_type": "text"
      },
      "source": [
        "**isalnum():** It takes no parameters. It returns True if a string contains both and only alphabets and numbers, no spaces or special characters."
      ]
    },
    {
      "cell_type": "code",
      "metadata": {
        "id": "bu3EvQoCNhl6",
        "colab_type": "code",
        "colab": {
          "base_uri": "https://localhost:8080/",
          "height": 51
        },
        "outputId": "16ac82dd-8e53-49f9-ab00-12f0522766ff"
      },
      "source": [
        "print('Hello12'.isalnum())\n",
        "print('Hello 12'.isalnum())"
      ],
      "execution_count": 28,
      "outputs": [
        {
          "output_type": "stream",
          "text": [
            "True\n",
            "False\n"
          ],
          "name": "stdout"
        }
      ]
    },
    {
      "cell_type": "markdown",
      "metadata": {
        "id": "Fn2drSmnNy1Q",
        "colab_type": "text"
      },
      "source": [
        "**isalpha():** It takes no parameters. It returns True if a string contains only alphabets(no spaces or special characters).\n",
        "\n"
      ]
    },
    {
      "cell_type": "code",
      "metadata": {
        "id": "ukDOAiPzOC4x",
        "colab_type": "code",
        "colab": {
          "base_uri": "https://localhost:8080/",
          "height": 34
        },
        "outputId": "1c85fea0-d798-4ea8-c326-ec7cbb019fe4"
      },
      "source": [
        "'Hamid'.isalpha()"
      ],
      "execution_count": 29,
      "outputs": [
        {
          "output_type": "execute_result",
          "data": {
            "text/plain": [
              "True"
            ]
          },
          "metadata": {
            "tags": []
          },
          "execution_count": 29
        }
      ]
    },
    {
      "cell_type": "markdown",
      "metadata": {
        "id": "_OKd6jGrOGPp",
        "colab_type": "text"
      },
      "source": [
        "**isnumeric()**: It takes no parameters. It returns True if a string contains only numbers(no floating point numbers).\n"
      ]
    },
    {
      "cell_type": "code",
      "metadata": {
        "id": "uOLTFDqQORSI",
        "colab_type": "code",
        "colab": {
          "base_uri": "https://localhost:8080/",
          "height": 51
        },
        "outputId": "481a8a37-3127-4d46-e964-c0a71e0e4112"
      },
      "source": [
        "print('123'.isnumeric())\n",
        "print('12.3'.isnumeric())"
      ],
      "execution_count": 30,
      "outputs": [
        {
          "output_type": "stream",
          "text": [
            "True\n",
            "False\n"
          ],
          "name": "stdout"
        }
      ]
    },
    {
      "cell_type": "markdown",
      "metadata": {
        "id": "cZHmn2RiObfR",
        "colab_type": "text"
      },
      "source": [
        "**isdigit():** It takes no paramters. It returns True if a string contains only numbers(no floating point numbers)."
      ]
    },
    {
      "cell_type": "code",
      "metadata": {
        "id": "XEESdUVbPP6y",
        "colab_type": "code",
        "colab": {
          "base_uri": "https://localhost:8080/",
          "height": 34
        },
        "outputId": "5b4bbafd-6ddf-4c41-9b50-9aa2e3046b5c"
      },
      "source": [
        "'12'.isdigit()"
      ],
      "execution_count": 32,
      "outputs": [
        {
          "output_type": "execute_result",
          "data": {
            "text/plain": [
              "True"
            ]
          },
          "metadata": {
            "tags": []
          },
          "execution_count": 32
        }
      ]
    },
    {
      "cell_type": "markdown",
      "metadata": {
        "id": "Ei2xDvPTPVGw",
        "colab_type": "text"
      },
      "source": [
        "**isdecimal():** It takes no paramters. It returns True if a string contains only numbers(no floating point numbers)"
      ]
    },
    {
      "cell_type": "code",
      "metadata": {
        "id": "K2rBfulQPwLs",
        "colab_type": "code",
        "colab": {
          "base_uri": "https://localhost:8080/",
          "height": 34
        },
        "outputId": "24b9ab7c-7edc-4908-cdfa-fa6a0d4e4914"
      },
      "source": [
        "'12.3'.isdecimal()"
      ],
      "execution_count": 33,
      "outputs": [
        {
          "output_type": "execute_result",
          "data": {
            "text/plain": [
              "False"
            ]
          },
          "metadata": {
            "tags": []
          },
          "execution_count": 33
        }
      ]
    },
    {
      "cell_type": "markdown",
      "metadata": {
        "id": "KorHm_7PP127",
        "colab_type": "text"
      },
      "source": [
        ""
      ]
    }
  ]
}