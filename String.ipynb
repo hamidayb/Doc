{
  "nbformat": 4,
  "nbformat_minor": 0,
  "metadata": {
    "colab": {
      "name": "String.ipynb",
      "provenance": [],
      "collapsed_sections": []
    },
    "kernelspec": {
      "name": "python3",
      "display_name": "Python 3"
    }
  },
  "cells": [
    {
      "cell_type": "markdown",
      "metadata": {
        "id": "mmkLP5n09bDm",
        "colab_type": "text"
      },
      "source": [
        "# **STRINGS**\n",
        "## Strings is a sequence of characters which immutable i.e., once defined cannot be changed.\n",
        "\n",
        "Here, we are going to discuss the functions applicable on strings.\n",
        "\n",
        "You can check all the functions defined on strings by:"
      ]
    },
    {
      "cell_type": "code",
      "metadata": {
        "id": "I87d3lXF-ReV",
        "colab_type": "code",
        "colab": {}
      },
      "source": [
        "dir(str)"
      ],
      "execution_count": null,
      "outputs": []
    },
    {
      "cell_type": "markdown",
      "metadata": {
        "id": "Vo8o_oaP-dB2",
        "colab_type": "text"
      },
      "source": [
        "We will discuss almost all functions one by one.\n",
        "\n",
        "1) **capitalize():**  It takes no parameters. It is called by a string using a dot operator. It capitalizes the first character of a string."
      ]
    },
    {
      "cell_type": "code",
      "metadata": {
        "id": "R_G7HXd0_PtU",
        "colab_type": "code",
        "colab": {
          "base_uri": "https://localhost:8080/",
          "height": 35
        },
        "outputId": "5bd28fad-f797-4add-bb4f-929e47c0535b"
      },
      "source": [
        "'hello world'.capitalize()"
      ],
      "execution_count": null,
      "outputs": [
        {
          "output_type": "execute_result",
          "data": {
            "application/vnd.google.colaboratory.intrinsic+json": {
              "type": "string"
            },
            "text/plain": [
              "'Hello world'"
            ]
          },
          "metadata": {
            "tags": []
          },
          "execution_count": 3
        }
      ]
    },
    {
      "cell_type": "markdown",
      "metadata": {
        "id": "cWGeAogICcPW",
        "colab_type": "text"
      },
      "source": [
        "2) **title():** It takes no parameters. It is called by a string using a dot operator. It capitalizes the first character of each word in the string."
      ]
    },
    {
      "cell_type": "code",
      "metadata": {
        "id": "Y1mpc_2uCrAH",
        "colab_type": "code",
        "colab": {
          "base_uri": "https://localhost:8080/",
          "height": 35
        },
        "outputId": "63a5887b-de9e-430b-ae72-cfe93ca3525c"
      },
      "source": [
        "'hello world! I am hamid.'.title()"
      ],
      "execution_count": null,
      "outputs": [
        {
          "output_type": "execute_result",
          "data": {
            "application/vnd.google.colaboratory.intrinsic+json": {
              "type": "string"
            },
            "text/plain": [
              "'Hello World! I Am Hamid.'"
            ]
          },
          "metadata": {
            "tags": []
          },
          "execution_count": 8
        }
      ]
    },
    {
      "cell_type": "markdown",
      "metadata": {
        "id": "uLYDhzCK_WkH",
        "colab_type": "text"
      },
      "source": [
        "3) **casefold()**: It takes no parameters. It is called by a string using a dot operator. It lower case all the letters of the string. It is similar to lower() function."
      ]
    },
    {
      "cell_type": "code",
      "metadata": {
        "id": "ePqTHB31AFxK",
        "colab_type": "code",
        "colab": {
          "base_uri": "https://localhost:8080/",
          "height": 35
        },
        "outputId": "96cd7e24-e1d8-4295-8f71-d1c113be6ae1"
      },
      "source": [
        "'Hello World! I am coming'.casefold()"
      ],
      "execution_count": null,
      "outputs": [
        {
          "output_type": "execute_result",
          "data": {
            "application/vnd.google.colaboratory.intrinsic+json": {
              "type": "string"
            },
            "text/plain": [
              "'hello world! i am coming'"
            ]
          },
          "metadata": {
            "tags": []
          },
          "execution_count": 4
        }
      ]
    },
    {
      "cell_type": "markdown",
      "metadata": {
        "id": "MHxBoUF61OH2",
        "colab_type": "text"
      },
      "source": [
        "4) **swapcase():** It takes no paramters. It returns the string with wach alphabet case inverted i.e., lower to upper and upper to lower."
      ]
    },
    {
      "cell_type": "code",
      "metadata": {
        "id": "MaWLEPO41fYw",
        "colab_type": "code",
        "colab": {
          "base_uri": "https://localhost:8080/",
          "height": 35
        },
        "outputId": "39f67b54-07fc-4dee-f872-a8ccd8edd588"
      },
      "source": [
        "'hAMID aYUB'.swapcase()"
      ],
      "execution_count": 24,
      "outputs": [
        {
          "output_type": "execute_result",
          "data": {
            "application/vnd.google.colaboratory.intrinsic+json": {
              "type": "string"
            },
            "text/plain": [
              "'Hamid Ayub'"
            ]
          },
          "metadata": {
            "tags": []
          },
          "execution_count": 24
        }
      ]
    },
    {
      "cell_type": "markdown",
      "metadata": {
        "id": "rJOhqY_IB1pi",
        "colab_type": "text"
      },
      "source": [
        "5) **ljust(width,fillchar):**It takes 2 parameters, width(length of string with padded characters) and fillchar(padding character). It is called by a string using a dot operator. It left just the string in the provided width and pad the padding character in space remainig on right."
      ]
    },
    {
      "cell_type": "code",
      "metadata": {
        "id": "ja_duAzQCSWa",
        "colab_type": "code",
        "colab": {
          "base_uri": "https://localhost:8080/",
          "height": 35
        },
        "outputId": "e90bc9db-f346-4164-b57e-a3897102641b"
      },
      "source": [
        "'Hello'.ljust(10,'*')"
      ],
      "execution_count": 28,
      "outputs": [
        {
          "output_type": "execute_result",
          "data": {
            "application/vnd.google.colaboratory.intrinsic+json": {
              "type": "string"
            },
            "text/plain": [
              "'Hello*****'"
            ]
          },
          "metadata": {
            "tags": []
          },
          "execution_count": 28
        }
      ]
    },
    {
      "cell_type": "markdown",
      "metadata": {
        "id": "lVxLZXIPAQX9",
        "colab_type": "text"
      },
      "source": [
        "6) **center(width, fillcahar)**: It takes 2 parameters, width(length of string with padded characters) and fillchar(padding character). It is called by a string using a dot operator. It centralizes the string in the provided width and pad the padding character in space left."
      ]
    },
    {
      "cell_type": "code",
      "metadata": {
        "id": "e9WqHubYBjsP",
        "colab_type": "code",
        "colab": {
          "base_uri": "https://localhost:8080/",
          "height": 35
        },
        "outputId": "2e65203f-4291-4d4c-884e-7a28c8d036cf"
      },
      "source": [
        "'Hello'.center(10,'*')"
      ],
      "execution_count": 29,
      "outputs": [
        {
          "output_type": "execute_result",
          "data": {
            "application/vnd.google.colaboratory.intrinsic+json": {
              "type": "string"
            },
            "text/plain": [
              "'**Hello***'"
            ]
          },
          "metadata": {
            "tags": []
          },
          "execution_count": 29
        }
      ]
    },
    {
      "cell_type": "markdown",
      "metadata": {
        "id": "Ck1WxWZgCaEv",
        "colab_type": "text"
      },
      "source": [
        "7) **rjust(width,fillchar):** It takes 2 parameters, width(length of string with padded characters) and fillchar(padding character). It is called by a string using a dot operator. It right just the string in the provided width and pad the padding character in space remainig on left.\n",
        "\n"
      ]
    },
    {
      "cell_type": "code",
      "metadata": {
        "id": "axucrvyyDJJd",
        "colab_type": "code",
        "colab": {
          "base_uri": "https://localhost:8080/",
          "height": 35
        },
        "outputId": "ed389843-6678-4e79-ec3f-3e949a0b88ab"
      },
      "source": [
        "'Hello'.rjust(10,'*')"
      ],
      "execution_count": null,
      "outputs": [
        {
          "output_type": "execute_result",
          "data": {
            "application/vnd.google.colaboratory.intrinsic+json": {
              "type": "string"
            },
            "text/plain": [
              "'*****Hello'"
            ]
          },
          "metadata": {
            "tags": []
          },
          "execution_count": 10
        }
      ]
    },
    {
      "cell_type": "markdown",
      "metadata": {
        "id": "Oseo4aH11r36",
        "colab_type": "text"
      },
      "source": [
        "8) **zfill(length)** It takes 1 paramter, length(length of output string). It returns the string with 0 padded on the left of original string."
      ]
    },
    {
      "cell_type": "code",
      "metadata": {
        "id": "-h7-eG9_2G3f",
        "colab_type": "code",
        "colab": {
          "base_uri": "https://localhost:8080/",
          "height": 35
        },
        "outputId": "4cf1e798-d825-41d5-e33c-dc62ea0666fb"
      },
      "source": [
        "'500'.zfill(10)"
      ],
      "execution_count": 25,
      "outputs": [
        {
          "output_type": "execute_result",
          "data": {
            "application/vnd.google.colaboratory.intrinsic+json": {
              "type": "string"
            },
            "text/plain": [
              "'0000000500'"
            ]
          },
          "metadata": {
            "tags": []
          },
          "execution_count": 25
        }
      ]
    },
    {
      "cell_type": "markdown",
      "metadata": {
        "id": "ewsbu8_7DUHV",
        "colab_type": "text"
      },
      "source": [
        "9) **count(sub_str, start, end):** It takes 3 parameters, sub_str(Sub String whose occurence is to be counted), start(starts from this point of string) and end(till the point). It is called by a string using a dot operator. It counts the occurences of the sub_string in the string. If no occurence, it returns 0."
      ]
    },
    {
      "cell_type": "code",
      "metadata": {
        "id": "JSrhn7fAER1I",
        "colab_type": "code",
        "colab": {
          "base_uri": "https://localhost:8080/",
          "height": 34
        },
        "outputId": "beb7b49a-776a-437f-9d28-776d9b204d4c"
      },
      "source": [
        "'Hi! I am Hamid'.count('am',3,14)"
      ],
      "execution_count": null,
      "outputs": [
        {
          "output_type": "execute_result",
          "data": {
            "text/plain": [
              "2"
            ]
          },
          "metadata": {
            "tags": []
          },
          "execution_count": 11
        }
      ]
    },
    {
      "cell_type": "markdown",
      "metadata": {
        "id": "asuvkp_iEjX2",
        "colab_type": "text"
      },
      "source": [
        "10) **find(sub_str, start, end):** It takes 3 parameters, sub_str(Sub String whose position is to be found), start(starts from this point of string) and end(till the point). It is called by a string using a dot operator. It finds the position of the first occurence of the sub_string in the string.  If no occurence, it returns -1.\n",
        "\n"
      ]
    },
    {
      "cell_type": "code",
      "metadata": {
        "id": "ciuJTHplFLbP",
        "colab_type": "code",
        "colab": {
          "base_uri": "https://localhost:8080/",
          "height": 34
        },
        "outputId": "d06e7e1a-eff0-4273-ac1c-260772ab948c"
      },
      "source": [
        "'Hi! I am Hamid'.find('am',2,14)"
      ],
      "execution_count": null,
      "outputs": [
        {
          "output_type": "execute_result",
          "data": {
            "text/plain": [
              "6"
            ]
          },
          "metadata": {
            "tags": []
          },
          "execution_count": 12
        }
      ]
    },
    {
      "cell_type": "markdown",
      "metadata": {
        "id": "ON8hMAeLFWSt",
        "colab_type": "text"
      },
      "source": [
        "11) **rfind(sub_str, start, end):** It takes 3 parameters, sub_str(Sub String whose position is to be found), start(starts from this point of string) and end(till the point). It is called by a string using a dot operator. It finds the position of the last occurence of the sub_string in the string. If no occurence, it returns -1."
      ]
    },
    {
      "cell_type": "code",
      "metadata": {
        "id": "zqDnnRkCFz0u",
        "colab_type": "code",
        "colab": {
          "base_uri": "https://localhost:8080/",
          "height": 34
        },
        "outputId": "d9ca8985-2b4d-4430-f0bb-c7a4d393aeae"
      },
      "source": [
        "'Hi! I am Hamid'.rfind('am',2,14)"
      ],
      "execution_count": null,
      "outputs": [
        {
          "output_type": "execute_result",
          "data": {
            "text/plain": [
              "10"
            ]
          },
          "metadata": {
            "tags": []
          },
          "execution_count": 13
        }
      ]
    },
    {
      "cell_type": "markdown",
      "metadata": {
        "id": "65CaIkvYLOox",
        "colab_type": "text"
      },
      "source": [
        "12) **index(sub_str, start, end):** It is totally similar to find() method. The only difference is that find() returns -1 if no occurence found, while index() gives an Exception."
      ]
    },
    {
      "cell_type": "code",
      "metadata": {
        "id": "9zlacI4cL02e",
        "colab_type": "code",
        "colab": {
          "base_uri": "https://localhost:8080/",
          "height": 34
        },
        "outputId": "347f920b-e87b-455d-cded-1cfff22cd01f"
      },
      "source": [
        "'Hello World'.index('o',5,10)"
      ],
      "execution_count": null,
      "outputs": [
        {
          "output_type": "execute_result",
          "data": {
            "text/plain": [
              "7"
            ]
          },
          "metadata": {
            "tags": []
          },
          "execution_count": 24
        }
      ]
    },
    {
      "cell_type": "markdown",
      "metadata": {
        "id": "JAm8eD7ZMjG_",
        "colab_type": "text"
      },
      "source": [
        "13) **rindex(sub_str, start, end):** It is totally similar to rfind() method. The only difference is that rfind() returns -1 if no occurence found, while rindex gives and Exception."
      ]
    },
    {
      "cell_type": "code",
      "metadata": {
        "id": "uzyeBJQ4M7Yz",
        "colab_type": "code",
        "colab": {
          "base_uri": "https://localhost:8080/",
          "height": 34
        },
        "outputId": "a0c6a8e0-b984-4850-e568-d61cc9189a63"
      },
      "source": [
        "'Hello World'.rindex('o')"
      ],
      "execution_count": null,
      "outputs": [
        {
          "output_type": "execute_result",
          "data": {
            "text/plain": [
              "7"
            ]
          },
          "metadata": {
            "tags": []
          },
          "execution_count": 26
        }
      ]
    },
    {
      "cell_type": "markdown",
      "metadata": {
        "id": "URZ4Eg3IF8pk",
        "colab_type": "text"
      },
      "source": [
        "14) **encode(encoding, errors):** The string encode() method returns encoded version of the given string. It takes two parameters, encoding(the encoding type a string has to be encoded to) and errors(response when encoding fails)."
      ]
    },
    {
      "cell_type": "code",
      "metadata": {
        "id": "-MHvyEIGGxKT",
        "colab_type": "code",
        "colab": {
          "base_uri": "https://localhost:8080/",
          "height": 34
        },
        "outputId": "8e848321-8640-459b-e40b-c088b903e54f"
      },
      "source": [
        "'hello world'.encode()"
      ],
      "execution_count": null,
      "outputs": [
        {
          "output_type": "execute_result",
          "data": {
            "text/plain": [
              "b'hello world'"
            ]
          },
          "metadata": {
            "tags": []
          },
          "execution_count": 15
        }
      ]
    },
    {
      "cell_type": "markdown",
      "metadata": {
        "id": "gNJ7t_hxG41u",
        "colab_type": "text"
      },
      "source": [
        "15) **startswith(substr, start, end):** It takes 3 parameter, sub_str(Sub String), start(starting index) and end(index at which search ends). It returns True/False based on whether the string starts with substr or not. "
      ]
    },
    {
      "cell_type": "code",
      "metadata": {
        "id": "afJg7NkHHiF_",
        "colab_type": "code",
        "colab": {
          "base_uri": "https://localhost:8080/",
          "height": 34
        },
        "outputId": "74171686-6c61-43d5-afce-3b11761ceab9"
      },
      "source": [
        "'Hi! I am Hamid'.startswith('I',4,14)"
      ],
      "execution_count": null,
      "outputs": [
        {
          "output_type": "execute_result",
          "data": {
            "text/plain": [
              "True"
            ]
          },
          "metadata": {
            "tags": []
          },
          "execution_count": 16
        }
      ]
    },
    {
      "cell_type": "markdown",
      "metadata": {
        "id": "IhfPVYfkHu-R",
        "colab_type": "text"
      },
      "source": [
        "16) **endswith(substr, start, end):** It takes 3 parameter, sub_str(Sub String), start(starting index) and end(index at which search ends). It returns True/False based on whether the string ends with substr or not.\n"
      ]
    },
    {
      "cell_type": "code",
      "metadata": {
        "id": "7BlpKlLVIN5v",
        "colab_type": "code",
        "colab": {
          "base_uri": "https://localhost:8080/",
          "height": 34
        },
        "outputId": "61685525-4e7d-4d78-8e02-c686021b8ebd"
      },
      "source": [
        "'Hello World'.endswith('o',0,5)"
      ],
      "execution_count": null,
      "outputs": [
        {
          "output_type": "execute_result",
          "data": {
            "text/plain": [
              "True"
            ]
          },
          "metadata": {
            "tags": []
          },
          "execution_count": 17
        }
      ]
    },
    {
      "cell_type": "markdown",
      "metadata": {
        "id": "7-aBniiwIW1x",
        "colab_type": "text"
      },
      "source": [
        "17) **expandtabs(tabsize):** It takes only 1 argument, tabsize(the number of spaces in replacement to tab character). It exapnds tab character depending upon provided tabsize."
      ]
    },
    {
      "cell_type": "code",
      "metadata": {
        "id": "OM8qDZpgIxQM",
        "colab_type": "code",
        "colab": {
          "base_uri": "https://localhost:8080/",
          "height": 35
        },
        "outputId": "c0d114c7-d7b8-4282-d91c-1530af34dcaa"
      },
      "source": [
        "'Hello\\tWorld'.expandtabs(4)"
      ],
      "execution_count": null,
      "outputs": [
        {
          "output_type": "execute_result",
          "data": {
            "application/vnd.google.colaboratory.intrinsic+json": {
              "type": "string"
            },
            "text/plain": [
              "'Hello   World'"
            ]
          },
          "metadata": {
            "tags": []
          },
          "execution_count": 18
        }
      ]
    },
    {
      "cell_type": "markdown",
      "metadata": {
        "id": "0RVPaJ0hI-Jx",
        "colab_type": "text"
      },
      "source": [
        "18) **format(values....):** It takes a number of paramaters depending upon how much you use in the string. It replaces '{}' in string with the values specified in its parenthesis."
      ]
    },
    {
      "cell_type": "code",
      "metadata": {
        "id": "xvNb55VZJcs0",
        "colab_type": "code",
        "colab": {
          "base_uri": "https://localhost:8080/",
          "height": 35
        },
        "outputId": "f904d1b0-6b9c-4a29-df1b-fe75e816171d"
      },
      "source": [
        "'Sum of {} and {} is {}'.format(23,25,23+25)"
      ],
      "execution_count": null,
      "outputs": [
        {
          "output_type": "execute_result",
          "data": {
            "application/vnd.google.colaboratory.intrinsic+json": {
              "type": "string"
            },
            "text/plain": [
              "'Sum of 23 and 25 is 48'"
            ]
          },
          "metadata": {
            "tags": []
          },
          "execution_count": 19
        }
      ]
    },
    {
      "cell_type": "markdown",
      "metadata": {
        "id": "D0l7j326Jphg",
        "colab_type": "text"
      },
      "source": [
        "19) **format_map(mapping(dictionary)):** It takes only one argument, mapping_dictionary i.e., the dictionary whose values are to be matched to the variables as keys."
      ]
    },
    {
      "cell_type": "code",
      "metadata": {
        "id": "tirFPLdwK0JB",
        "colab_type": "code",
        "colab": {
          "base_uri": "https://localhost:8080/",
          "height": 35
        },
        "outputId": "e1cc4f2a-4c5d-44f3-ebbb-3b52c5b6d2f8"
      },
      "source": [
        "d = {'a':5,'b':6, 'c': 11}\n",
        "'Sum of {a} and {b} is: {c}'.format_map(d)"
      ],
      "execution_count": null,
      "outputs": [
        {
          "output_type": "execute_result",
          "data": {
            "application/vnd.google.colaboratory.intrinsic+json": {
              "type": "string"
            },
            "text/plain": [
              "'Sum of 5 and 6 is: 11'"
            ]
          },
          "metadata": {
            "tags": []
          },
          "execution_count": 22
        }
      ]
    },
    {
      "cell_type": "markdown",
      "metadata": {
        "id": "zVkvIsweMNGe",
        "colab_type": "text"
      },
      "source": [
        "20) **isalnum():** It takes no parameters. It returns True if a string contains both and only alphabets and numbers, no spaces or special characters."
      ]
    },
    {
      "cell_type": "code",
      "metadata": {
        "id": "bu3EvQoCNhl6",
        "colab_type": "code",
        "colab": {
          "base_uri": "https://localhost:8080/",
          "height": 51
        },
        "outputId": "16ac82dd-8e53-49f9-ab00-12f0522766ff"
      },
      "source": [
        "print('Hello12'.isalnum())\n",
        "print('Hello 12'.isalnum())"
      ],
      "execution_count": null,
      "outputs": [
        {
          "output_type": "stream",
          "text": [
            "True\n",
            "False\n"
          ],
          "name": "stdout"
        }
      ]
    },
    {
      "cell_type": "markdown",
      "metadata": {
        "id": "Fn2drSmnNy1Q",
        "colab_type": "text"
      },
      "source": [
        "21) **isalpha():** It takes no parameters. It returns True if a string contains only alphabets(no spaces or special characters).\n",
        "\n"
      ]
    },
    {
      "cell_type": "code",
      "metadata": {
        "id": "ukDOAiPzOC4x",
        "colab_type": "code",
        "colab": {
          "base_uri": "https://localhost:8080/",
          "height": 34
        },
        "outputId": "1c85fea0-d798-4ea8-c326-ec7cbb019fe4"
      },
      "source": [
        "'Hamid'.isalpha()"
      ],
      "execution_count": null,
      "outputs": [
        {
          "output_type": "execute_result",
          "data": {
            "text/plain": [
              "True"
            ]
          },
          "metadata": {
            "tags": []
          },
          "execution_count": 29
        }
      ]
    },
    {
      "cell_type": "markdown",
      "metadata": {
        "id": "_OKd6jGrOGPp",
        "colab_type": "text"
      },
      "source": [
        "22) **isnumeric()**: It takes no parameters. It returns True if a string contains only numbers(no floating point numbers).\n"
      ]
    },
    {
      "cell_type": "code",
      "metadata": {
        "id": "uOLTFDqQORSI",
        "colab_type": "code",
        "colab": {
          "base_uri": "https://localhost:8080/",
          "height": 51
        },
        "outputId": "481a8a37-3127-4d46-e964-c0a71e0e4112"
      },
      "source": [
        "print('123'.isnumeric())\n",
        "print('12.3'.isnumeric())"
      ],
      "execution_count": null,
      "outputs": [
        {
          "output_type": "stream",
          "text": [
            "True\n",
            "False\n"
          ],
          "name": "stdout"
        }
      ]
    },
    {
      "cell_type": "markdown",
      "metadata": {
        "id": "cZHmn2RiObfR",
        "colab_type": "text"
      },
      "source": [
        "23) **isdigit():** It takes no paramters. It returns True if a string contains only numbers(no floating point numbers)."
      ]
    },
    {
      "cell_type": "code",
      "metadata": {
        "id": "XEESdUVbPP6y",
        "colab_type": "code",
        "colab": {
          "base_uri": "https://localhost:8080/",
          "height": 34
        },
        "outputId": "5b4bbafd-6ddf-4c41-9b50-9aa2e3046b5c"
      },
      "source": [
        "'12'.isdigit()"
      ],
      "execution_count": null,
      "outputs": [
        {
          "output_type": "execute_result",
          "data": {
            "text/plain": [
              "True"
            ]
          },
          "metadata": {
            "tags": []
          },
          "execution_count": 32
        }
      ]
    },
    {
      "cell_type": "markdown",
      "metadata": {
        "id": "Ei2xDvPTPVGw",
        "colab_type": "text"
      },
      "source": [
        "24) **isdecimal():** It takes no paramters. It returns True if a string contains only numbers(no floating point numbers)"
      ]
    },
    {
      "cell_type": "code",
      "metadata": {
        "id": "K2rBfulQPwLs",
        "colab_type": "code",
        "colab": {
          "base_uri": "https://localhost:8080/",
          "height": 34
        },
        "outputId": "24b9ab7c-7edc-4908-cdfa-fa6a0d4e4914"
      },
      "source": [
        "'12.3'.isdecimal()"
      ],
      "execution_count": null,
      "outputs": [
        {
          "output_type": "execute_result",
          "data": {
            "text/plain": [
              "False"
            ]
          },
          "metadata": {
            "tags": []
          },
          "execution_count": 33
        }
      ]
    },
    {
      "cell_type": "markdown",
      "metadata": {
        "id": "KorHm_7PP127",
        "colab_type": "text"
      },
      "source": [
        "25) **isidentifier():** It takes no parameters. It return True if a string can be used as a variable, i.e., the string follows the rules for naming variables. "
      ]
    },
    {
      "cell_type": "code",
      "metadata": {
        "id": "O6l9QC-6qHyu",
        "colab_type": "code",
        "colab": {
          "base_uri": "https://localhost:8080/",
          "height": 51
        },
        "outputId": "69d05650-4758-478e-86f2-d4763c653f97"
      },
      "source": [
        "print('var1'.isidentifier())\n",
        "'$fa'.isidentifier()"
      ],
      "execution_count": 3,
      "outputs": [
        {
          "output_type": "stream",
          "text": [
            "True\n"
          ],
          "name": "stdout"
        },
        {
          "output_type": "execute_result",
          "data": {
            "text/plain": [
              "False"
            ]
          },
          "metadata": {
            "tags": []
          },
          "execution_count": 3
        }
      ]
    },
    {
      "cell_type": "markdown",
      "metadata": {
        "id": "BomIjOWhqX2B",
        "colab_type": "text"
      },
      "source": [
        "26) **islower():** It takes no paramters. It returns True if a string is in lower case latters."
      ]
    },
    {
      "cell_type": "code",
      "metadata": {
        "id": "KMfeS3xKqoCB",
        "colab_type": "code",
        "colab": {
          "base_uri": "https://localhost:8080/",
          "height": 34
        },
        "outputId": "d085529e-9015-4648-8d90-ef49287df366"
      },
      "source": [
        "'hamid 12'.islower()"
      ],
      "execution_count": 5,
      "outputs": [
        {
          "output_type": "execute_result",
          "data": {
            "text/plain": [
              "True"
            ]
          },
          "metadata": {
            "tags": []
          },
          "execution_count": 5
        }
      ]
    },
    {
      "cell_type": "markdown",
      "metadata": {
        "id": "dkp111QzqsDj",
        "colab_type": "text"
      },
      "source": [
        "27) **isupper():**  It takes no parameters. It returns True if each alphabet of string is in upper case letters."
      ]
    },
    {
      "cell_type": "code",
      "metadata": {
        "id": "nGDtFMyVq0Yj",
        "colab_type": "code",
        "colab": {
          "base_uri": "https://localhost:8080/",
          "height": 34
        },
        "outputId": "0b92aa8e-74e9-4b6d-953a-c0ac58b473d4"
      },
      "source": [
        "'HAMID 12'.isupper()"
      ],
      "execution_count": 6,
      "outputs": [
        {
          "output_type": "execute_result",
          "data": {
            "text/plain": [
              "True"
            ]
          },
          "metadata": {
            "tags": []
          },
          "execution_count": 6
        }
      ]
    },
    {
      "cell_type": "markdown",
      "metadata": {
        "id": "Oled3Tdqq7_m",
        "colab_type": "text"
      },
      "source": [
        "28) **isspace():** It takes no paramters. It returns True if the string contains only spaces."
      ]
    },
    {
      "cell_type": "code",
      "metadata": {
        "id": "u2z_JCZzrHXs",
        "colab_type": "code",
        "colab": {
          "base_uri": "https://localhost:8080/",
          "height": 51
        },
        "outputId": "bc981351-c319-463d-c994-d9d4a37ae650"
      },
      "source": [
        "print('Hamid  Ayub'.isspace())\n",
        "'   '.isspace()"
      ],
      "execution_count": 7,
      "outputs": [
        {
          "output_type": "stream",
          "text": [
            "False\n"
          ],
          "name": "stdout"
        },
        {
          "output_type": "execute_result",
          "data": {
            "text/plain": [
              "True"
            ]
          },
          "metadata": {
            "tags": []
          },
          "execution_count": 7
        }
      ]
    },
    {
      "cell_type": "markdown",
      "metadata": {
        "id": "_YtvJFTLrQZt",
        "colab_type": "text"
      },
      "source": [
        "29) **istitle():** It takes no paramters. It returns True if each first letter of word is in upper case e.g., Hamid Ayub."
      ]
    },
    {
      "cell_type": "code",
      "metadata": {
        "id": "X6k7Vg_mrfQu",
        "colab_type": "code",
        "colab": {
          "base_uri": "https://localhost:8080/",
          "height": 51
        },
        "outputId": "288dd256-9266-46aa-bacf-c97fade6414b"
      },
      "source": [
        "print('Hamid Ayub is a Student'.istitle())\n",
        "'Hamid Ayub Is A Student'.istitle()"
      ],
      "execution_count": 8,
      "outputs": [
        {
          "output_type": "stream",
          "text": [
            "False\n"
          ],
          "name": "stdout"
        },
        {
          "output_type": "execute_result",
          "data": {
            "text/plain": [
              "True"
            ]
          },
          "metadata": {
            "tags": []
          },
          "execution_count": 8
        }
      ]
    },
    {
      "cell_type": "markdown",
      "metadata": {
        "id": "7sAhW5pArpI2",
        "colab_type": "text"
      },
      "source": [
        "30) **isprintable:** It takes no paramters. It returns True if each character in the string is printable or string is empty."
      ]
    },
    {
      "cell_type": "code",
      "metadata": {
        "id": "t2aPd03ssDTw",
        "colab_type": "code",
        "colab": {
          "base_uri": "https://localhost:8080/",
          "height": 51
        },
        "outputId": "9d27be27-a2ec-41b7-e13b-cab4802b3975"
      },
      "source": [
        "print('Hello My marks are: 95'.isprintable())\n",
        "'Hello\\tMy marks are:\\t95'.isprintable()"
      ],
      "execution_count": 9,
      "outputs": [
        {
          "output_type": "stream",
          "text": [
            "True\n"
          ],
          "name": "stdout"
        },
        {
          "output_type": "execute_result",
          "data": {
            "text/plain": [
              "False"
            ]
          },
          "metadata": {
            "tags": []
          },
          "execution_count": 9
        }
      ]
    },
    {
      "cell_type": "markdown",
      "metadata": {
        "id": "JKfFjc9BsQpP",
        "colab_type": "text"
      },
      "source": [
        "31) **lower():** It takes no paramters. It returns the string in lower case letters."
      ]
    },
    {
      "cell_type": "code",
      "metadata": {
        "id": "Aej1E4E_souU",
        "colab_type": "code",
        "colab": {
          "base_uri": "https://localhost:8080/",
          "height": 35
        },
        "outputId": "395f1d96-ac9c-4024-c95a-7121c23fe248"
      },
      "source": [
        "'Hello WOrlD'.lower()"
      ],
      "execution_count": 10,
      "outputs": [
        {
          "output_type": "execute_result",
          "data": {
            "application/vnd.google.colaboratory.intrinsic+json": {
              "type": "string"
            },
            "text/plain": [
              "'hello world'"
            ]
          },
          "metadata": {
            "tags": []
          },
          "execution_count": 10
        }
      ]
    },
    {
      "cell_type": "markdown",
      "metadata": {
        "id": "j4crQ8sOsuQq",
        "colab_type": "text"
      },
      "source": [
        "32) **upper():** It takes no paramters. It returns the string in upper case letters."
      ]
    },
    {
      "cell_type": "code",
      "metadata": {
        "id": "4M5oMh94s1hM",
        "colab_type": "code",
        "colab": {
          "base_uri": "https://localhost:8080/",
          "height": 35
        },
        "outputId": "ebbc92ea-70d9-40b1-fb16-3619c9d1654f"
      },
      "source": [
        "'hello WorLD'.upper()"
      ],
      "execution_count": 11,
      "outputs": [
        {
          "output_type": "execute_result",
          "data": {
            "application/vnd.google.colaboratory.intrinsic+json": {
              "type": "string"
            },
            "text/plain": [
              "'HELLO WORLD'"
            ]
          },
          "metadata": {
            "tags": []
          },
          "execution_count": 11
        }
      ]
    },
    {
      "cell_type": "markdown",
      "metadata": {
        "id": "sVHzSdfXs5iO",
        "colab_type": "text"
      },
      "source": [
        "33) **substr.join(string):** It takes 1 paramter, string as iterable. Sub string to be padded with string is used with dot operator with join. It returns the string with substring as a padded character."
      ]
    },
    {
      "cell_type": "code",
      "metadata": {
        "id": "IjoZZCYJtlcV",
        "colab_type": "code",
        "colab": {
          "base_uri": "https://localhost:8080/",
          "height": 35
        },
        "outputId": "9c40a659-151a-42fd-f9d9-c1770c0aafd8"
      },
      "source": [
        "'*'.join('HELLO')"
      ],
      "execution_count": 12,
      "outputs": [
        {
          "output_type": "execute_result",
          "data": {
            "application/vnd.google.colaboratory.intrinsic+json": {
              "type": "string"
            },
            "text/plain": [
              "'H*E*L*L*O'"
            ]
          },
          "metadata": {
            "tags": []
          },
          "execution_count": 12
        }
      ]
    },
    {
      "cell_type": "markdown",
      "metadata": {
        "id": "l0h4cbwxtrMV",
        "colab_type": "text"
      },
      "source": [
        "34) **replace(substr, new_substr):**It takes 2 arguments, substr(which is to be replaced) and new_substr(which is the replaced substr). It returns the string with replaced sub string."
      ]
    },
    {
      "cell_type": "code",
      "metadata": {
        "id": "i9Q-sf_WuIWg",
        "colab_type": "code",
        "colab": {
          "base_uri": "https://localhost:8080/",
          "height": 35
        },
        "outputId": "8fc90c48-fad2-49d8-c4fc-36d7bef10448"
      },
      "source": [
        "'Hamid was a boy'.replace('was','is')"
      ],
      "execution_count": 13,
      "outputs": [
        {
          "output_type": "execute_result",
          "data": {
            "application/vnd.google.colaboratory.intrinsic+json": {
              "type": "string"
            },
            "text/plain": [
              "'Hamid is a boy'"
            ]
          },
          "metadata": {
            "tags": []
          },
          "execution_count": 13
        }
      ]
    },
    {
      "cell_type": "markdown",
      "metadata": {
        "id": "FOOtz8yZuN7a",
        "colab_type": "text"
      },
      "source": [
        "35) **partition(value):** It takes 1 argument, value(on the basis of which string is to be divided). It divides the string into 3 parts from left:\n",
        "\n",
        "*   Substring on the left of value\n",
        "*   Value\n",
        "*   Substring on the right of value\n",
        "\n",
        "\n",
        "\n"
      ]
    },
    {
      "cell_type": "code",
      "metadata": {
        "id": "x5efSOgrvFe7",
        "colab_type": "code",
        "colab": {
          "base_uri": "https://localhost:8080/",
          "height": 34
        },
        "outputId": "9b3a5d18-ed65-44bb-8ffb-257b00511653"
      },
      "source": [
        "'Who love Who? I am in love with people'.partition('love')"
      ],
      "execution_count": 19,
      "outputs": [
        {
          "output_type": "execute_result",
          "data": {
            "text/plain": [
              "('Who ', 'love', ' Who? I am in love with people')"
            ]
          },
          "metadata": {
            "tags": []
          },
          "execution_count": 19
        }
      ]
    },
    {
      "cell_type": "markdown",
      "metadata": {
        "id": "aB4aMX50yYmC",
        "colab_type": "text"
      },
      "source": [
        "36) **rpartition(value):**  It takes 1 argument, value(on the basis of which string is to be divided). It divides the string into 3 parts from right:\n",
        "\n",
        "*   Substring on the left of value\n",
        "*   Value\n",
        "*   Substring on the right of value\n"
      ]
    },
    {
      "cell_type": "code",
      "metadata": {
        "id": "MQ1E7MW9yyS9",
        "colab_type": "code",
        "colab": {
          "base_uri": "https://localhost:8080/",
          "height": 34
        },
        "outputId": "e02cc34d-e144-4fb0-e435-a68568012356"
      },
      "source": [
        "'Who love Who? I am in love with people'.rpartition('love')"
      ],
      "execution_count": 20,
      "outputs": [
        {
          "output_type": "execute_result",
          "data": {
            "text/plain": [
              "('Who love Who? I am in ', 'love', ' with people')"
            ]
          },
          "metadata": {
            "tags": []
          },
          "execution_count": 20
        }
      ]
    },
    {
      "cell_type": "markdown",
      "metadata": {
        "id": "136DtDpdvOGv",
        "colab_type": "text"
      },
      "source": [
        "37) **maketrans(dict):** It takes 3 argument but I am discussing only 1 which is a dictionary. It returns the translation table with mapping of 1-1."
      ]
    },
    {
      "cell_type": "code",
      "metadata": {
        "id": "HeaC-49Sv7Lk",
        "colab_type": "code",
        "colab": {
          "base_uri": "https://localhost:8080/",
          "height": 34
        },
        "outputId": "652037d6-fb78-408d-d6c1-f5be99265197"
      },
      "source": [
        "dict = {'a':'123','b':'23','c':'45'}\n",
        "'Bachelor'.maketrans(dict)"
      ],
      "execution_count": 15,
      "outputs": [
        {
          "output_type": "execute_result",
          "data": {
            "text/plain": [
              "{97: '123', 98: '23', 99: '45'}"
            ]
          },
          "metadata": {
            "tags": []
          },
          "execution_count": 15
        }
      ]
    },
    {
      "cell_type": "markdown",
      "metadata": {
        "id": "yeGEg32s8zy3",
        "colab_type": "text"
      },
      "source": [
        "38) **translate(trans_table):** It takes 1 argument, trans_table which contains the mappings of alphabets. It returns the translated string based on the translation table."
      ]
    },
    {
      "cell_type": "code",
      "metadata": {
        "id": "z2lCV1SG9XxA",
        "colab_type": "code",
        "colab": {
          "base_uri": "https://localhost:8080/",
          "height": 35
        },
        "outputId": "f0540d84-33ff-4a5c-8aa0-e8848638dec4"
      },
      "source": [
        "dict = {'a':'12','b':'45'}\n",
        "m = 'Habib'.maketrans(dict)\n",
        "'Habib'.translate(m)"
      ],
      "execution_count": 27,
      "outputs": [
        {
          "output_type": "execute_result",
          "data": {
            "application/vnd.google.colaboratory.intrinsic+json": {
              "type": "string"
            },
            "text/plain": [
              "'H1245i45'"
            ]
          },
          "metadata": {
            "tags": []
          },
          "execution_count": 27
        }
      ]
    },
    {
      "cell_type": "markdown",
      "metadata": {
        "id": "QZs2G21bwhEu",
        "colab_type": "text"
      },
      "source": [
        "39) **lstrip(char):** It takes 1 argument, char which is to be discarded. If char is not provided then default is space. It returns a string with char characters discarded from the left(if any)."
      ]
    },
    {
      "cell_type": "code",
      "metadata": {
        "id": "pcula1ItxGll",
        "colab_type": "code",
        "colab": {
          "base_uri": "https://localhost:8080/",
          "height": 35
        },
        "outputId": "40a21905-7cde-454c-fef8-e7933a2228d4"
      },
      "source": [
        "'---Hamid'.lstrip('-')"
      ],
      "execution_count": 16,
      "outputs": [
        {
          "output_type": "execute_result",
          "data": {
            "application/vnd.google.colaboratory.intrinsic+json": {
              "type": "string"
            },
            "text/plain": [
              "'Hamid'"
            ]
          },
          "metadata": {
            "tags": []
          },
          "execution_count": 16
        }
      ]
    },
    {
      "cell_type": "markdown",
      "metadata": {
        "id": "5P0p6fxxwSHA",
        "colab_type": "text"
      },
      "source": [
        "40) **strip(char):** It takes 1 argument, char which is to be discarded. If char is not provided then default is space. It returns a string with char characters discarded from the left and right(if any)."
      ]
    },
    {
      "cell_type": "code",
      "metadata": {
        "id": "nBZyshJVxckw",
        "colab_type": "code",
        "colab": {
          "base_uri": "https://localhost:8080/",
          "height": 35
        },
        "outputId": "a025fac5-440d-42c4-bc8c-0f80f649eedc"
      },
      "source": [
        "'---Hamid-Ayub---'.strip('-')"
      ],
      "execution_count": 17,
      "outputs": [
        {
          "output_type": "execute_result",
          "data": {
            "application/vnd.google.colaboratory.intrinsic+json": {
              "type": "string"
            },
            "text/plain": [
              "'Hamid-Ayub'"
            ]
          },
          "metadata": {
            "tags": []
          },
          "execution_count": 17
        }
      ]
    },
    {
      "cell_type": "markdown",
      "metadata": {
        "id": "6i3VPlepxktM",
        "colab_type": "text"
      },
      "source": [
        "41) **rstrip(char):** It takes 1 argument, char which is to be discarded. If char is not provided then default is space. It returns a string with char characters discarded from the right(if any)."
      ]
    },
    {
      "cell_type": "code",
      "metadata": {
        "id": "zsaQMd1rx32A",
        "colab_type": "code",
        "colab": {
          "base_uri": "https://localhost:8080/",
          "height": 35
        },
        "outputId": "db8dd211-b8c1-4967-eab1-4b55e05186fa"
      },
      "source": [
        "'Hamid----'.rstrip('-')"
      ],
      "execution_count": 18,
      "outputs": [
        {
          "output_type": "execute_result",
          "data": {
            "application/vnd.google.colaboratory.intrinsic+json": {
              "type": "string"
            },
            "text/plain": [
              "'Hamid'"
            ]
          },
          "metadata": {
            "tags": []
          },
          "execution_count": 18
        }
      ]
    },
    {
      "cell_type": "markdown",
      "metadata": {
        "id": "HzFspesTx8pH",
        "colab_type": "text"
      },
      "source": [
        "42) **split(value, num):** It takes 2 paramters, value(on the basis of it, string is split) and num(number of splits to be made). It splits the string from left, based on value and returns 2 substr if num is 1."
      ]
    },
    {
      "cell_type": "code",
      "metadata": {
        "id": "b5LWN3uKz6cc",
        "colab_type": "code",
        "colab": {
          "base_uri": "https://localhost:8080/",
          "height": 34
        },
        "outputId": "3d91dda5-f1b4-4de4-ee48-5d09625df225"
      },
      "source": [
        "'Hello Boy'.split('o',1)"
      ],
      "execution_count": 21,
      "outputs": [
        {
          "output_type": "execute_result",
          "data": {
            "text/plain": [
              "['Hell', ' Boy']"
            ]
          },
          "metadata": {
            "tags": []
          },
          "execution_count": 21
        }
      ]
    },
    {
      "cell_type": "markdown",
      "metadata": {
        "id": "5EXafZ4y0BTd",
        "colab_type": "text"
      },
      "source": [
        "43) **rsplit(value, num):** It takes 2 paramters, value(on the basis of it, string is split) and num(number of splits to be made). It splits the string from right, based on value and returns 2 substr if num is 1."
      ]
    },
    {
      "cell_type": "code",
      "metadata": {
        "id": "ytjRVk0V0U_m",
        "colab_type": "code",
        "colab": {
          "base_uri": "https://localhost:8080/",
          "height": 34
        },
        "outputId": "82e6fcbb-cb0f-4570-b0eb-13854bb09ce0"
      },
      "source": [
        "'Hello Boy'.rsplit('o',1)"
      ],
      "execution_count": 22,
      "outputs": [
        {
          "output_type": "execute_result",
          "data": {
            "text/plain": [
              "['Hello B', 'y']"
            ]
          },
          "metadata": {
            "tags": []
          },
          "execution_count": 22
        }
      ]
    },
    {
      "cell_type": "markdown",
      "metadata": {
        "id": "Tt7Mc7pq0at3",
        "colab_type": "text"
      },
      "source": [
        "44) **splitlines(bool):** It takes 1 optional argument, which is a boolean value which determines whther to keep linebreak in output or not. It returns list of string splitted on the basis of line break."
      ]
    },
    {
      "cell_type": "code",
      "metadata": {
        "id": "8Xg5LQsM091B",
        "colab_type": "code",
        "colab": {
          "base_uri": "https://localhost:8080/",
          "height": 34
        },
        "outputId": "859ab2d2-d198-4ff5-b73c-0dd72340c553"
      },
      "source": [
        "'Hello\\nWorld'.splitlines(True)"
      ],
      "execution_count": 23,
      "outputs": [
        {
          "output_type": "execute_result",
          "data": {
            "text/plain": [
              "['Hello\\n', 'World']"
            ]
          },
          "metadata": {
            "tags": []
          },
          "execution_count": 23
        }
      ]
    }
  ]
}