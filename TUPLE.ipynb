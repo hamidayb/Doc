{
  "nbformat": 4,
  "nbformat_minor": 0,
  "metadata": {
    "colab": {
      "name": "TUPLE.ipynb",
      "provenance": []
    },
    "kernelspec": {
      "name": "python3",
      "display_name": "Python 3"
    }
  },
  "cells": [
    {
      "cell_type": "markdown",
      "metadata": {
        "id": "CNmYa-BWobBF",
        "colab_type": "text"
      },
      "source": [
        "# ***TUPLE***\n",
        "It is a data structure in python which is immutable.\n",
        "\n",
        "Here we will discuss the methods applicable on tuple.\n",
        "\n",
        "Firstly, let's create a tuple. \n",
        "\n",
        "**Note:** We cannot create an empty tuple because if we do so then we are unable to add elements to it.\n"
      ]
    },
    {
      "cell_type": "code",
      "metadata": {
        "id": "4RjA21YBpJex",
        "colab_type": "code",
        "colab": {
          "base_uri": "https://localhost:8080/",
          "height": 34
        },
        "outputId": "9ec3cf68-aeeb-4e8d-ad64-40a86fa4f6e2"
      },
      "source": [
        "tup = tuple((1, 3, 5, 7, 7, 9))\n",
        "tup"
      ],
      "execution_count": 6,
      "outputs": [
        {
          "output_type": "execute_result",
          "data": {
            "text/plain": [
              "(1, 3, 5, 7, 7, 9)"
            ]
          },
          "metadata": {
            "tags": []
          },
          "execution_count": 6
        }
      ]
    },
    {
      "cell_type": "markdown",
      "metadata": {
        "id": "Syqi6cAZpYEs",
        "colab_type": "text"
      },
      "source": [
        "One thing to note that tuple takes atmost 1 argument so we supplied all elements in shape of 1 element i.e., covered in the parenthesis.\n",
        "\n",
        "Now let's call the dir(tuple) to check the methods in tuple."
      ]
    },
    {
      "cell_type": "code",
      "metadata": {
        "id": "zZFxTzXmp3Ij",
        "colab_type": "code",
        "colab": {
          "base_uri": "https://localhost:8080/",
          "height": 578
        },
        "outputId": "f72d3176-b24b-4672-87b0-062aa94e0ee3"
      },
      "source": [
        "dir(tup)"
      ],
      "execution_count": 5,
      "outputs": [
        {
          "output_type": "execute_result",
          "data": {
            "text/plain": [
              "['__add__',\n",
              " '__class__',\n",
              " '__contains__',\n",
              " '__delattr__',\n",
              " '__dir__',\n",
              " '__doc__',\n",
              " '__eq__',\n",
              " '__format__',\n",
              " '__ge__',\n",
              " '__getattribute__',\n",
              " '__getitem__',\n",
              " '__getnewargs__',\n",
              " '__gt__',\n",
              " '__hash__',\n",
              " '__init__',\n",
              " '__init_subclass__',\n",
              " '__iter__',\n",
              " '__le__',\n",
              " '__len__',\n",
              " '__lt__',\n",
              " '__mul__',\n",
              " '__ne__',\n",
              " '__new__',\n",
              " '__reduce__',\n",
              " '__reduce_ex__',\n",
              " '__repr__',\n",
              " '__rmul__',\n",
              " '__setattr__',\n",
              " '__sizeof__',\n",
              " '__str__',\n",
              " '__subclasshook__',\n",
              " 'count',\n",
              " 'index']"
            ]
          },
          "metadata": {
            "tags": []
          },
          "execution_count": 5
        }
      ]
    },
    {
      "cell_type": "markdown",
      "metadata": {
        "id": "bFKGwZIXp6YL",
        "colab_type": "text"
      },
      "source": [
        "***METHODS OF TUPLE***\n",
        "\n",
        "1) **tuple.count(element):** It will return the total occurences of the desired element."
      ]
    },
    {
      "cell_type": "code",
      "metadata": {
        "id": "GXqfyzlkqLj6",
        "colab_type": "code",
        "colab": {
          "base_uri": "https://localhost:8080/",
          "height": 34
        },
        "outputId": "016a25ea-80c8-4ce1-cdfe-a038ccb9c620"
      },
      "source": [
        "tup.count(7)"
      ],
      "execution_count": 8,
      "outputs": [
        {
          "output_type": "execute_result",
          "data": {
            "text/plain": [
              "2"
            ]
          },
          "metadata": {
            "tags": []
          },
          "execution_count": 8
        }
      ]
    },
    {
      "cell_type": "markdown",
      "metadata": {
        "id": "q_705k1cqU2i",
        "colab_type": "text"
      },
      "source": [
        "2) **tuple.index(element, start, end):** It will return the index of the first occurence of the element from left in the range(start, end)."
      ]
    },
    {
      "cell_type": "code",
      "metadata": {
        "id": "TFRLqjxLqjyA",
        "colab_type": "code",
        "colab": {
          "base_uri": "https://localhost:8080/",
          "height": 34
        },
        "outputId": "03465c1a-811a-4549-807d-cc5edf140415"
      },
      "source": [
        "tup.index(7, 4, 6)"
      ],
      "execution_count": 10,
      "outputs": [
        {
          "output_type": "execute_result",
          "data": {
            "text/plain": [
              "4"
            ]
          },
          "metadata": {
            "tags": []
          },
          "execution_count": 10
        }
      ]
    },
    {
      "cell_type": "markdown",
      "metadata": {
        "id": "Q-8tow2KrDCN",
        "colab_type": "text"
      },
      "source": [
        "**BASIC OPERATIONS ON TUPLE**"
      ]
    },
    {
      "cell_type": "markdown",
      "metadata": {
        "id": "zS-6srVzrQs-",
        "colab_type": "text"
      },
      "source": [
        "1) **len(tuple):** It will return the length of tuple."
      ]
    },
    {
      "cell_type": "code",
      "metadata": {
        "id": "T8Z1lSakraQ0",
        "colab_type": "code",
        "colab": {
          "base_uri": "https://localhost:8080/",
          "height": 34
        },
        "outputId": "1885465b-025d-4679-9010-a9d2adc6180b"
      },
      "source": [
        "len(tup)"
      ],
      "execution_count": 11,
      "outputs": [
        {
          "output_type": "execute_result",
          "data": {
            "text/plain": [
              "6"
            ]
          },
          "metadata": {
            "tags": []
          },
          "execution_count": 11
        }
      ]
    },
    {
      "cell_type": "markdown",
      "metadata": {
        "id": "JIuZXSturc4Q",
        "colab_type": "text"
      },
      "source": [
        "2) **max(tuple):** It will return the maximum value in the tuple."
      ]
    },
    {
      "cell_type": "code",
      "metadata": {
        "id": "PNCK2fsNrkS9",
        "colab_type": "code",
        "colab": {
          "base_uri": "https://localhost:8080/",
          "height": 34
        },
        "outputId": "4cb9cd77-8300-49b0-a31c-faea06628928"
      },
      "source": [
        "max(tup)"
      ],
      "execution_count": 12,
      "outputs": [
        {
          "output_type": "execute_result",
          "data": {
            "text/plain": [
              "9"
            ]
          },
          "metadata": {
            "tags": []
          },
          "execution_count": 12
        }
      ]
    },
    {
      "cell_type": "markdown",
      "metadata": {
        "id": "tOeQ2wvZroi7",
        "colab_type": "text"
      },
      "source": [
        "3) **min(tuple):**It will return the minimum value in the tuple."
      ]
    },
    {
      "cell_type": "code",
      "metadata": {
        "id": "wC9I8dFeru0r",
        "colab_type": "code",
        "colab": {
          "base_uri": "https://localhost:8080/",
          "height": 34
        },
        "outputId": "808ab17b-1011-4c34-cbf1-2aa220ffa1a3"
      },
      "source": [
        "min(tup)"
      ],
      "execution_count": 13,
      "outputs": [
        {
          "output_type": "execute_result",
          "data": {
            "text/plain": [
              "1"
            ]
          },
          "metadata": {
            "tags": []
          },
          "execution_count": 13
        }
      ]
    },
    {
      "cell_type": "markdown",
      "metadata": {
        "id": "p_pfzpCGrxmu",
        "colab_type": "text"
      },
      "source": [
        "4) **tuple(iterable):** It will convert iterable to tuple."
      ]
    },
    {
      "cell_type": "code",
      "metadata": {
        "id": "pSLQqkmqr5r7",
        "colab_type": "code",
        "colab": {
          "base_uri": "https://localhost:8080/",
          "height": 51
        },
        "outputId": "7c9e64af-f00f-4984-b5ac-efd807adfe79"
      },
      "source": [
        "print(tuple('HELLO'))\n",
        "tuple([1, 2, 3, 4, 5])"
      ],
      "execution_count": 15,
      "outputs": [
        {
          "output_type": "stream",
          "text": [
            "('H', 'E', 'L', 'L', 'O')\n"
          ],
          "name": "stdout"
        },
        {
          "output_type": "execute_result",
          "data": {
            "text/plain": [
              "(1, 2, 3, 4, 5)"
            ]
          },
          "metadata": {
            "tags": []
          },
          "execution_count": 15
        }
      ]
    },
    {
      "cell_type": "markdown",
      "metadata": {
        "id": "uQESGs8gsEgR",
        "colab_type": "text"
      },
      "source": [
        "\n",
        "\n",
        "**Note:** We cannot directly change the tuple but we can do it indirectly by converting tuple to list and then having amendments in list and then again converting list back to tuple."
      ]
    },
    {
      "cell_type": "code",
      "metadata": {
        "id": "ddlKX1AQsb1l",
        "colab_type": "code",
        "colab": {
          "base_uri": "https://localhost:8080/",
          "height": 34
        },
        "outputId": "067dfece-4cbd-4b55-e18f-c504f27c2bbe"
      },
      "source": [
        "tup = ((1, 2, 3, 4, 5))\n",
        "l = list(tup)\n",
        "l.append(7)\n",
        "tup = tuple(l)\n",
        "tup"
      ],
      "execution_count": 16,
      "outputs": [
        {
          "output_type": "execute_result",
          "data": {
            "text/plain": [
              "(1, 2, 3, 4, 5, 7)"
            ]
          },
          "metadata": {
            "tags": []
          },
          "execution_count": 16
        }
      ]
    }
  ]
}