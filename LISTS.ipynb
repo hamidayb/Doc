{
  "nbformat": 4,
  "nbformat_minor": 0,
  "metadata": {
    "colab": {
      "name": "LISTS",
      "provenance": [],
      "collapsed_sections": []
    },
    "kernelspec": {
      "name": "python3",
      "display_name": "Python 3"
    }
  },
  "cells": [
    {
      "cell_type": "markdown",
      "metadata": {
        "id": "WoY2eZ7AeQ4g",
        "colab_type": "text"
      },
      "source": [
        "# ***LISTS***\n",
        "List is a data structure in python which is mutable, changeable, ordered sequence of elements.\n",
        "\n",
        "Here we are going to discuss the methods of list and some of the operations we can perform on lists.\n",
        "\n",
        "First-of-all, we will create an empty list."
      ]
    },
    {
      "cell_type": "code",
      "metadata": {
        "id": "p8lPXBE2ePK8",
        "colab_type": "code",
        "colab": {
          "base_uri": "https://localhost:8080/",
          "height": 34
        },
        "outputId": "6b31041c-b56e-48d3-b032-2b42d1de891b"
      },
      "source": [
        "my_list = list()\n",
        "my_list"
      ],
      "execution_count": 39,
      "outputs": [
        {
          "output_type": "execute_result",
          "data": {
            "text/plain": [
              "[]"
            ]
          },
          "metadata": {
            "tags": []
          },
          "execution_count": 39
        }
      ]
    },
    {
      "cell_type": "markdown",
      "metadata": {
        "id": "jH3bjHqjfM87",
        "colab_type": "text"
      },
      "source": [
        "All methods of list can be checked via dir(list)"
      ]
    },
    {
      "cell_type": "code",
      "metadata": {
        "id": "_2Mcijv2fcNj",
        "colab_type": "code",
        "colab": {
          "base_uri": "https://localhost:8080/",
          "height": 799
        },
        "outputId": "b1605d84-50a3-4f96-e258-fbf6a5483865"
      },
      "source": [
        "dir(list)"
      ],
      "execution_count": 3,
      "outputs": [
        {
          "output_type": "execute_result",
          "data": {
            "text/plain": [
              "['__add__',\n",
              " '__class__',\n",
              " '__contains__',\n",
              " '__delattr__',\n",
              " '__delitem__',\n",
              " '__dir__',\n",
              " '__doc__',\n",
              " '__eq__',\n",
              " '__format__',\n",
              " '__ge__',\n",
              " '__getattribute__',\n",
              " '__getitem__',\n",
              " '__gt__',\n",
              " '__hash__',\n",
              " '__iadd__',\n",
              " '__imul__',\n",
              " '__init__',\n",
              " '__init_subclass__',\n",
              " '__iter__',\n",
              " '__le__',\n",
              " '__len__',\n",
              " '__lt__',\n",
              " '__mul__',\n",
              " '__ne__',\n",
              " '__new__',\n",
              " '__reduce__',\n",
              " '__reduce_ex__',\n",
              " '__repr__',\n",
              " '__reversed__',\n",
              " '__rmul__',\n",
              " '__setattr__',\n",
              " '__setitem__',\n",
              " '__sizeof__',\n",
              " '__str__',\n",
              " '__subclasshook__',\n",
              " 'append',\n",
              " 'clear',\n",
              " 'copy',\n",
              " 'count',\n",
              " 'extend',\n",
              " 'index',\n",
              " 'insert',\n",
              " 'pop',\n",
              " 'remove',\n",
              " 'reverse',\n",
              " 'sort']"
            ]
          },
          "metadata": {
            "tags": []
          },
          "execution_count": 3
        }
      ]
    },
    {
      "cell_type": "markdown",
      "metadata": {
        "id": "gxWLA0jyfhka",
        "colab_type": "text"
      },
      "source": [
        "Let's start discussing the ***METHODS of List***:"
      ]
    },
    {
      "cell_type": "markdown",
      "metadata": {
        "id": "7Ryqjrq3fyvs",
        "colab_type": "text"
      },
      "source": [
        "1) **list.append(element):** It will add element to the end of list. "
      ]
    },
    {
      "cell_type": "code",
      "metadata": {
        "id": "AaHttOyMfeRM",
        "colab_type": "code",
        "colab": {
          "base_uri": "https://localhost:8080/",
          "height": 34
        },
        "outputId": "d2e51197-750e-413e-dcae-216e17978be4"
      },
      "source": [
        "my_list.append(\"Hamid\")\n",
        "my_list"
      ],
      "execution_count": 40,
      "outputs": [
        {
          "output_type": "execute_result",
          "data": {
            "text/plain": [
              "['Hamid']"
            ]
          },
          "metadata": {
            "tags": []
          },
          "execution_count": 40
        }
      ]
    },
    {
      "cell_type": "markdown",
      "metadata": {
        "id": "E5RnWc0ugMoB",
        "colab_type": "text"
      },
      "source": [
        "2) **list.extend(iterable):** It will add an iteratable to the end of list."
      ]
    },
    {
      "cell_type": "code",
      "metadata": {
        "id": "Jz9VNROWgmmd",
        "colab_type": "code",
        "colab": {
          "base_uri": "https://localhost:8080/",
          "height": 34
        },
        "outputId": "416c353d-f3ab-4c3f-cc75-b23adf68cb80"
      },
      "source": [
        "my_list.extend(['Hammad','Hamza'])\n",
        "my_list.extend('HA')\n",
        "my_list"
      ],
      "execution_count": 41,
      "outputs": [
        {
          "output_type": "execute_result",
          "data": {
            "text/plain": [
              "['Hamid', 'Hammad', 'Hamza', 'H', 'A']"
            ]
          },
          "metadata": {
            "tags": []
          },
          "execution_count": 41
        }
      ]
    },
    {
      "cell_type": "markdown",
      "metadata": {
        "id": "BZnlqaO0hKTa",
        "colab_type": "text"
      },
      "source": [
        "3) **my_list.insert(position, value):** It will add value to the specific position(specified in paramter) to the list."
      ]
    },
    {
      "cell_type": "code",
      "metadata": {
        "id": "ZKD-g2dMhjzB",
        "colab_type": "code",
        "colab": {
          "base_uri": "https://localhost:8080/",
          "height": 34
        },
        "outputId": "f3b88bf4-f0fb-4f30-b447-424bbaaf66fc"
      },
      "source": [
        "my_list.insert(2,'Hamid')\n",
        "my_list"
      ],
      "execution_count": 42,
      "outputs": [
        {
          "output_type": "execute_result",
          "data": {
            "text/plain": [
              "['Hamid', 'Hammad', 'Hamid', 'Hamza', 'H', 'A']"
            ]
          },
          "metadata": {
            "tags": []
          },
          "execution_count": 42
        }
      ]
    },
    {
      "cell_type": "markdown",
      "metadata": {
        "id": "lSBBOs4KhtYY",
        "colab_type": "text"
      },
      "source": [
        "4) **list.sort():** It will sort the list in ascending order."
      ]
    },
    {
      "cell_type": "code",
      "metadata": {
        "id": "rhwfH1nfh8Dh",
        "colab_type": "code",
        "colab": {
          "base_uri": "https://localhost:8080/",
          "height": 34
        },
        "outputId": "8d08f1be-3284-4dfa-eb6c-96b997fa7ee4"
      },
      "source": [
        "my_list.sort()\n",
        "my_list"
      ],
      "execution_count": 43,
      "outputs": [
        {
          "output_type": "execute_result",
          "data": {
            "text/plain": [
              "['A', 'H', 'Hamid', 'Hamid', 'Hammad', 'Hamza']"
            ]
          },
          "metadata": {
            "tags": []
          },
          "execution_count": 43
        }
      ]
    },
    {
      "cell_type": "markdown",
      "metadata": {
        "id": "BOFStu9MiD-Y",
        "colab_type": "text"
      },
      "source": [
        "5) **list.reverse():** It will reverse the order of list."
      ]
    },
    {
      "cell_type": "code",
      "metadata": {
        "id": "SYa4cKZJiNPv",
        "colab_type": "code",
        "colab": {
          "base_uri": "https://localhost:8080/",
          "height": 34
        },
        "outputId": "e58c98dc-06a2-48e4-da69-968a4d54d794"
      },
      "source": [
        "my_list.reverse()\n",
        "my_list"
      ],
      "execution_count": 44,
      "outputs": [
        {
          "output_type": "execute_result",
          "data": {
            "text/plain": [
              "['Hamza', 'Hammad', 'Hamid', 'Hamid', 'H', 'A']"
            ]
          },
          "metadata": {
            "tags": []
          },
          "execution_count": 44
        }
      ]
    },
    {
      "cell_type": "markdown",
      "metadata": {
        "id": "LR8C2BLuiR4B",
        "colab_type": "text"
      },
      "source": [
        "6) **list.count(element):** It will count the occurences of the element in the list."
      ]
    },
    {
      "cell_type": "code",
      "metadata": {
        "id": "4PJt63bOip7H",
        "colab_type": "code",
        "colab": {
          "base_uri": "https://localhost:8080/",
          "height": 34
        },
        "outputId": "5dfa1afd-a475-448c-d9b1-767531641e47"
      },
      "source": [
        "my_list.count('Hamid')"
      ],
      "execution_count": 45,
      "outputs": [
        {
          "output_type": "execute_result",
          "data": {
            "text/plain": [
              "2"
            ]
          },
          "metadata": {
            "tags": []
          },
          "execution_count": 45
        }
      ]
    },
    {
      "cell_type": "markdown",
      "metadata": {
        "id": "vOGw1fbLjIcA",
        "colab_type": "text"
      },
      "source": [
        "7) **list.index(element):** It will return the index of the element in the list."
      ]
    },
    {
      "cell_type": "code",
      "metadata": {
        "id": "t9sVm_w4jRUI",
        "colab_type": "code",
        "colab": {
          "base_uri": "https://localhost:8080/",
          "height": 34
        },
        "outputId": "3e10ba85-2f1b-4b64-8923-1965377a1e11"
      },
      "source": [
        "my_list.index('H')"
      ],
      "execution_count": 46,
      "outputs": [
        {
          "output_type": "execute_result",
          "data": {
            "text/plain": [
              "4"
            ]
          },
          "metadata": {
            "tags": []
          },
          "execution_count": 46
        }
      ]
    },
    {
      "cell_type": "markdown",
      "metadata": {
        "id": "IPZIM6-cjetY",
        "colab_type": "text"
      },
      "source": [
        "8) **list.copy():** If we copy the list through simple assinment operator then there is one loss which is, if we change the content of the new_list then the contents of the old_list from which new_list is made via assignment operator are also changed. Thus to avoid this issue, list.copy() method is used which will keep the state of the old_list, no matter what are the contents of the new_list are."
      ]
    },
    {
      "cell_type": "code",
      "metadata": {
        "id": "5wWFxO-qkdT4",
        "colab_type": "code",
        "colab": {
          "base_uri": "https://localhost:8080/",
          "height": 136
        },
        "outputId": "32e2cd6e-685d-4b72-d325-bc84d3892f05"
      },
      "source": [
        "list_copy = my_list.copy()\n",
        "print(\"Copied list:\",list_copy)\n",
        "print(\"My list:\",my_list,\"\\n\")\n",
        "my_list.append(\"Haroon\")\n",
        "print(\"After changing in my_list...\\n\")\n",
        "print(\"Copied List:\",list_copy)\n",
        "print(\"My_list:\",my_list)"
      ],
      "execution_count": 47,
      "outputs": [
        {
          "output_type": "stream",
          "text": [
            "Copied list: ['Hamza', 'Hammad', 'Hamid', 'Hamid', 'H', 'A']\n",
            "My list: ['Hamza', 'Hammad', 'Hamid', 'Hamid', 'H', 'A'] \n",
            "\n",
            "After changing in my_list...\n",
            "\n",
            "Copied List: ['Hamza', 'Hammad', 'Hamid', 'Hamid', 'H', 'A']\n",
            "My_list: ['Hamza', 'Hammad', 'Hamid', 'Hamid', 'H', 'A', 'Haroon']\n"
          ],
          "name": "stdout"
        }
      ]
    },
    {
      "cell_type": "markdown",
      "metadata": {
        "id": "Z_S43-MflMik",
        "colab_type": "text"
      },
      "source": [
        "9) **list.pop():** It will remove the last element from the list and return its value."
      ]
    },
    {
      "cell_type": "code",
      "metadata": {
        "id": "BzQkBRA2lV93",
        "colab_type": "code",
        "colab": {
          "base_uri": "https://localhost:8080/",
          "height": 51
        },
        "outputId": "a8a0a8eb-88d6-4a03-c7c8-3a15c7565a17"
      },
      "source": [
        "print(my_list.pop())\n",
        "my_list"
      ],
      "execution_count": 48,
      "outputs": [
        {
          "output_type": "stream",
          "text": [
            "Haroon\n"
          ],
          "name": "stdout"
        },
        {
          "output_type": "execute_result",
          "data": {
            "text/plain": [
              "['Hamza', 'Hammad', 'Hamid', 'Hamid', 'H', 'A']"
            ]
          },
          "metadata": {
            "tags": []
          },
          "execution_count": 48
        }
      ]
    },
    {
      "cell_type": "markdown",
      "metadata": {
        "id": "ph6vWI_WlcT_",
        "colab_type": "text"
      },
      "source": [
        "10) **list.remove(element):** It will remove the single occurence of the specified element from the list from left side. It will not return the value as pop() did."
      ]
    },
    {
      "cell_type": "code",
      "metadata": {
        "id": "itbI2GWSlpw8",
        "colab_type": "code",
        "colab": {
          "base_uri": "https://localhost:8080/",
          "height": 34
        },
        "outputId": "2acb13c3-e9b1-45c6-dfe9-c3da521d18b2"
      },
      "source": [
        "my_list.remove(\"Hamid\")\n",
        "my_list"
      ],
      "execution_count": 49,
      "outputs": [
        {
          "output_type": "execute_result",
          "data": {
            "text/plain": [
              "['Hamza', 'Hammad', 'Hamid', 'H', 'A']"
            ]
          },
          "metadata": {
            "tags": []
          },
          "execution_count": 49
        }
      ]
    },
    {
      "cell_type": "markdown",
      "metadata": {
        "id": "OB5OE6vbmHX7",
        "colab_type": "text"
      },
      "source": [
        "11) **clear():** It will clear the whole list."
      ]
    },
    {
      "cell_type": "code",
      "metadata": {
        "id": "15zn1P0BmUU0",
        "colab_type": "code",
        "colab": {
          "base_uri": "https://localhost:8080/",
          "height": 34
        },
        "outputId": "b974fb63-35e1-4386-fc1d-0ebeaf95fda8"
      },
      "source": [
        "my_list.clear()\n",
        "my_list"
      ],
      "execution_count": 51,
      "outputs": [
        {
          "output_type": "execute_result",
          "data": {
            "text/plain": [
              "[]"
            ]
          },
          "metadata": {
            "tags": []
          },
          "execution_count": 51
        }
      ]
    },
    {
      "cell_type": "markdown",
      "metadata": {
        "id": "HWTRchLOmbKN",
        "colab_type": "text"
      },
      "source": [
        "***Some Basic OPERATIONS on List***"
      ]
    },
    {
      "cell_type": "code",
      "metadata": {
        "id": "XwUIMeTtnF9f",
        "colab_type": "code",
        "colab": {}
      },
      "source": [
        "my_list = [1, 4, 6, 3, 8, 6, 5]"
      ],
      "execution_count": 53,
      "outputs": []
    },
    {
      "cell_type": "markdown",
      "metadata": {
        "id": "TduLDhfLm2yj",
        "colab_type": "text"
      },
      "source": [
        "1) **len(list):** It will return the total number of elements in the list."
      ]
    },
    {
      "cell_type": "code",
      "metadata": {
        "id": "-txiW_U7nCgQ",
        "colab_type": "code",
        "colab": {
          "base_uri": "https://localhost:8080/",
          "height": 34
        },
        "outputId": "3067d7a7-4442-4181-ae02-fef308ba9977"
      },
      "source": [
        "len(my_list)"
      ],
      "execution_count": 54,
      "outputs": [
        {
          "output_type": "execute_result",
          "data": {
            "text/plain": [
              "7"
            ]
          },
          "metadata": {
            "tags": []
          },
          "execution_count": 54
        }
      ]
    },
    {
      "cell_type": "markdown",
      "metadata": {
        "id": "UM1znU4InSSg",
        "colab_type": "text"
      },
      "source": [
        "2) **max(my_list):** It will return the maximum value in the list."
      ]
    },
    {
      "cell_type": "code",
      "metadata": {
        "id": "vj6JQZdMncqu",
        "colab_type": "code",
        "colab": {
          "base_uri": "https://localhost:8080/",
          "height": 34
        },
        "outputId": "f4c5a0be-f684-46f7-9207-38ed2acf9f3f"
      },
      "source": [
        "max(my_list)"
      ],
      "execution_count": 55,
      "outputs": [
        {
          "output_type": "execute_result",
          "data": {
            "text/plain": [
              "8"
            ]
          },
          "metadata": {
            "tags": []
          },
          "execution_count": 55
        }
      ]
    },
    {
      "cell_type": "markdown",
      "metadata": {
        "id": "yK2BxQAMngDu",
        "colab_type": "text"
      },
      "source": [
        "3) **min(my_list):** It will return the minimum value in the list."
      ]
    },
    {
      "cell_type": "code",
      "metadata": {
        "id": "eFRgfvsvnnj3",
        "colab_type": "code",
        "colab": {
          "base_uri": "https://localhost:8080/",
          "height": 34
        },
        "outputId": "7426f1c1-95cd-4cdb-dc72-db6a0ef4a85a"
      },
      "source": [
        "min(my_list)"
      ],
      "execution_count": 56,
      "outputs": [
        {
          "output_type": "execute_result",
          "data": {
            "text/plain": [
              "1"
            ]
          },
          "metadata": {
            "tags": []
          },
          "execution_count": 56
        }
      ]
    },
    {
      "cell_type": "markdown",
      "metadata": {
        "id": "7PMR6qYsntHS",
        "colab_type": "text"
      },
      "source": [
        "4) **list(iterable):** It will convert some iterable(string, tuple, dictionary etc) to a list."
      ]
    },
    {
      "cell_type": "code",
      "metadata": {
        "id": "tjDA3ifqn6Xm",
        "colab_type": "code",
        "colab": {
          "base_uri": "https://localhost:8080/",
          "height": 34
        },
        "outputId": "6b53e9b4-fd3f-40ef-d8aa-a8d96ad0494f"
      },
      "source": [
        "list(\"HELLO\")"
      ],
      "execution_count": 57,
      "outputs": [
        {
          "output_type": "execute_result",
          "data": {
            "text/plain": [
              "['H', 'E', 'L', 'L', 'O']"
            ]
          },
          "metadata": {
            "tags": []
          },
          "execution_count": 57
        }
      ]
    }
  ]
}